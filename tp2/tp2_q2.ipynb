{
 "cells": [
  {
   "cell_type": "code",
   "execution_count": 1,
   "metadata": {},
   "outputs": [],
   "source": [
    "import random\n",
    "import string\n",
    "import copy\n",
    "import numpy as np\n",
    "import random as rd\n",
    "import matplotlib\n",
    "import matplotlib.pyplot as plt"
   ]
  },
  {
   "cell_type": "code",
   "execution_count": 2,
   "metadata": {},
   "outputs": [],
   "source": [
    "size = 8\n",
    "w = np.array([10, 18, 12, 14, 13, 11, 8, 6])\n",
    "gain = np.array([5 , 8 , 7 , 6 , 9 , 5 , 4, 3])\n",
    "capacity = 35\n",
    "\n",
    "r = np.max(gain / w) "
   ]
  },
  {
   "cell_type": "code",
   "execution_count": 3,
   "metadata": {},
   "outputs": [],
   "source": [
    "# gerar pop. 0 ou 1 aleatorios do tamanho da quantidade de itens\n",
    "\n",
    "def generate_pop(pop_size):\n",
    "    pop = []\n",
    "    for being in range(pop_size):\n",
    "        pop.append(add_random_asterisk(get_random_string()))\n",
    "    return pop\n",
    "\n"
   ]
  },
  {
   "cell_type": "code",
   "execution_count": 4,
   "metadata": {},
   "outputs": [],
   "source": [
    "def penal(proposed):\n",
    "    level = r * np.maximum((np.sum(proposed*w) - capacity),0)\n",
    "    return level \n",
    "\n",
    "def fitness(proposed):\n",
    "    s = []\n",
    "    for prop in proposed:\n",
    "        s.append(np.sum(gain*prop) - penal(prop))\n",
    "    return s\n",
    "\n",
    "def fitness_nq(proposed):\n",
    "    v = (np.sum(gain*proposed) - penal(proposed))\n",
    "    return v"
   ]
  },
  {
   "cell_type": "code",
   "execution_count": 5,
   "metadata": {},
   "outputs": [],
   "source": [
    "def generate_pop(n = 20):\n",
    "    pop = []\n",
    "    for i in range (n):\n",
    "        ind = np.random.randint(0,2,size)\n",
    "        pop.append(ind)\n",
    "    return pop\n",
    "\n",
    "\n",
    "def mutation(offspring, mutation_rate):\n",
    "    size_ind = len(offspring[0])\n",
    "    population_copy = copy.copy(offspring)\n",
    "    for i in range(len(population_copy)):\n",
    "        if float(random.randint(0, 10))/10 <= mutation_rate:\n",
    "            loc = random.randint(0,size_ind-1)\n",
    "            population_copy[i,loc] = int(not (population_copy[i,loc]))\n",
    "    return population_copy\n",
    "\n",
    "\n",
    "def crossover(subset_parents, cross_over_rate):\n",
    "    new_ = []\n",
    "    if float(rd.randint(0, 10))/10 <= cross_over_rate:\n",
    "        size_n = len(subset_parents[0])\n",
    "        for i in range(0,int(len(subset_parents)/2),2):\n",
    "            cut_v = random.randint(1, size_n-1)\n",
    "            son1 = np.concatenate((subset_parents[i][0:cut_v], subset_parents[i+1][cut_v:]))\n",
    "            son2 = np.concatenate((subset_parents[i+1][0:cut_v], subset_parents[i][cut_v:]))\n",
    "            new_.append(son1)\n",
    "            new_.append(son2)\n",
    "    else:\n",
    "        new_ = subset_parents\n",
    "        \n",
    "    return np.array(new_)\n",
    "\n",
    "def replacement(offspring_new, pop):\n",
    "    pop = np.concatenate((pop,offspring_new), axis=0)\n",
    "    evaluate_v = []\n",
    "    for indv in pop:\n",
    "        evaluate_v.append(fitness_nq(indv))\n",
    "    \n",
    "    sorted_ = sorted(range(len(evaluate_v)), key=evaluate_v.__getitem__)\n",
    "    pop_order = pop[sorted_]\n",
    "    pop_order = pop_order[len(offspring_new):]\n",
    "    \n",
    "    return pop_order\n",
    "\n",
    "\n",
    "def selection_fitness_r(population, indv):\n",
    "    loss = fitness(population)\n",
    "    loss_total = np.sum(loss) \n",
    "    fitness_norm = loss/loss_total # O fitness dos individuos é normalizado em relação ao fitness da população\n",
    "    selected = []\n",
    "    for i in range(indv):\n",
    "        sel = random.random()\n",
    "        acc = 0\n",
    "        prev_acc = 0\n",
    "        chosen = -1\n",
    "        for j in range(len(fitness_norm)):\n",
    "            acc += fitness_norm[j]\n",
    "            if sel < acc and sel >= prev_acc:\n",
    "                chosen = j\n",
    "                break\n",
    "            prev_acc = acc\n",
    "        selected.append(population[chosen])\n",
    "    return selected    "
   ]
  },
  {
   "cell_type": "code",
   "execution_count": 6,
   "metadata": {},
   "outputs": [
    {
     "data": {
      "text/plain": [
       "[array([0, 1, 0, 1, 0, 0, 1, 1]),\n",
       " array([0, 1, 1, 0, 0, 0, 1, 0]),\n",
       " array([1, 1, 0, 0, 0, 0, 1, 1]),\n",
       " array([1, 0, 1, 1, 1, 1, 1, 1]),\n",
       " array([1, 1, 0, 0, 1, 1, 1, 0]),\n",
       " array([1, 0, 0, 1, 1, 0, 0, 1]),\n",
       " array([1, 0, 0, 0, 1, 1, 1, 1]),\n",
       " array([0, 0, 1, 1, 1, 1, 1, 1]),\n",
       " array([0, 1, 1, 0, 1, 1, 1, 0]),\n",
       " array([1, 1, 1, 1, 1, 0, 0, 1]),\n",
       " array([0, 1, 1, 1, 0, 1, 1, 0]),\n",
       " array([0, 1, 0, 1, 0, 0, 0, 1]),\n",
       " array([0, 0, 0, 0, 1, 0, 1, 1]),\n",
       " array([1, 0, 0, 0, 1, 1, 0, 0]),\n",
       " array([1, 1, 1, 0, 0, 1, 1, 1]),\n",
       " array([0, 1, 1, 0, 1, 0, 1, 1]),\n",
       " array([0, 0, 1, 1, 1, 0, 1, 0]),\n",
       " array([1, 0, 1, 0, 0, 1, 0, 0]),\n",
       " array([0, 0, 1, 0, 0, 1, 1, 0]),\n",
       " array([1, 0, 1, 0, 1, 1, 0, 1]),\n",
       " array([0, 0, 1, 1, 1, 0, 1, 0]),\n",
       " array([1, 0, 1, 1, 1, 1, 1, 1]),\n",
       " array([0, 1, 0, 0, 1, 1, 1, 0]),\n",
       " array([1, 1, 1, 0, 0, 0, 1, 0]),\n",
       " array([0, 1, 0, 1, 1, 1, 0, 0]),\n",
       " array([1, 1, 0, 1, 0, 0, 0, 1]),\n",
       " array([1, 0, 1, 0, 1, 0, 0, 0]),\n",
       " array([0, 0, 0, 0, 0, 1, 0, 0]),\n",
       " array([1, 1, 1, 1, 1, 1, 1, 1]),\n",
       " array([0, 1, 1, 1, 0, 1, 0, 0]),\n",
       " array([0, 1, 1, 0, 0, 1, 0, 1]),\n",
       " array([1, 1, 1, 1, 1, 0, 1, 1]),\n",
       " array([1, 1, 0, 0, 0, 0, 1, 0]),\n",
       " array([0, 0, 1, 0, 0, 0, 0, 1]),\n",
       " array([1, 1, 1, 1, 1, 0, 0, 1]),\n",
       " array([1, 0, 0, 0, 1, 0, 0, 0]),\n",
       " array([1, 1, 0, 1, 1, 0, 0, 0]),\n",
       " array([0, 0, 1, 0, 1, 0, 1, 1]),\n",
       " array([0, 1, 0, 1, 1, 1, 1, 0]),\n",
       " array([0, 1, 0, 1, 1, 0, 0, 1])]"
      ]
     },
     "execution_count": 6,
     "metadata": {},
     "output_type": "execute_result"
    }
   ],
   "source": [
    "pop = generate_pop(40)\n",
    "cross_over_rate = 0.7\n",
    "mutation_rate = 0.7\n",
    "n_inter_max = 500\n",
    "cut = 2\n",
    "pop"
   ]
  },
  {
   "cell_type": "code",
   "execution_count": 7,
   "metadata": {},
   "outputs": [
    {
     "name": "stdout",
     "output_type": "stream",
     "text": [
      "Fitness da geração maior valor 0: 21.0\n",
      "\n",
      "Fitness da geração maior valor 30: 21.0\n",
      "\n",
      "Fitness da geração maior valor 60: 21.0\n",
      "\n",
      "Fitness da geração maior valor 90: 21.0\n",
      "\n",
      "Fitness da geração maior valor 120: 21.0\n",
      "\n",
      "Fitness da geração maior valor 150: 21.0\n",
      "\n",
      "Fitness da geração maior valor 180: 21.0\n",
      "\n",
      "Fitness da geração maior valor 210: 21.0\n",
      "\n",
      "Fitness da geração maior valor 240: 21.0\n",
      "\n",
      "Fitness da geração maior valor 270: 21.0\n",
      "\n",
      "Fitness da geração maior valor 300: 21.0\n",
      "\n",
      "Fitness da geração maior valor 330: 21.0\n",
      "\n",
      "Fitness da geração maior valor 360: 21.0\n",
      "\n",
      "Fitness da geração maior valor 390: 21.0\n",
      "\n",
      "Fitness da geração maior valor 420: 21.0\n",
      "\n",
      "Fitness da geração maior valor 450: 21.0\n",
      "\n",
      "Fitness da geração maior valor 480: 21.0\n",
      "\n",
      "Fitness da geração maior valor 500: 21.0\n",
      "\n",
      "Melhor solução encontrada: [1 0 1 0 1 0 0 0]\n",
      "Fitness da melhor solução encontrada: 21.0\n"
     ]
    }
   ],
   "source": [
    "sol = []\n",
    "n_iter = 0\n",
    "fitness_avg = []\n",
    "best_of_generation = []\n",
    "biggest_fitness = -1\n",
    "smallest_fitness = 1000\n",
    "\n",
    "while n_iter < n_inter_max:\n",
    "    subset_parents = selection_fitness_r(pop, cut)\n",
    "    offspring = crossover(subset_parents, cross_over_rate)\n",
    "    offspring_new = mutation(offspring, mutation_rate)\n",
    "    pop = replacement(offspring_new, pop)\n",
    "    fitness_scores = []\n",
    "    last = fitness_nq(pop[-1])\n",
    "    \n",
    "    for p in pop:\n",
    "        v = fitness_nq(p)\n",
    "        fitness_scores.append(v)\n",
    "        if last > biggest_fitness:\n",
    "            biggest_fitness = last\n",
    "            sol = copy.copy(pop[-1])\n",
    "\n",
    "    best_of_generation.append(biggest_fitness)\n",
    "            \n",
    "    current_fitness_avg = sum(fitness_scores)/len(fitness_scores)\n",
    "    fitness_avg.append(current_fitness_avg)\n",
    "    \n",
    "    if n_iter%30 == 0:\n",
    "        print (f\"Fitness da geração maior valor {n_iter}: {last}\\n\")    \n",
    "    n_iter += 1\n",
    "\n",
    "print (f\"Fitness da geração maior valor {n_iter}: {last}\\n\")    \n",
    "print(f\"Melhor solução encontrada: {sol}\")\n",
    "print(f\"Fitness da melhor solução encontrada: {biggest_fitness}\")"
   ]
  },
  {
   "cell_type": "code",
   "execution_count": 8,
   "metadata": {},
   "outputs": [
    {
     "name": "stdout",
     "output_type": "stream",
     "text": [
      "Solution\n",
      "Número de interações: 500\n",
      "Os objetos utilizados são: [1 0 1 0 1 0 0 0]\n",
      "Peso na mochila 35\n",
      "Ganho 21\n",
      "1 - Usa\n",
      "2 - Não\n",
      "3 - Usa\n",
      "4 - Não\n",
      "5 - Usa\n",
      "6 - Não\n",
      "7 - Não\n",
      "8 - Não\n"
     ]
    }
   ],
   "source": [
    "print('Solution')\n",
    "print('Número de interações: {}'.format(n_iter))\n",
    "print('Os objetos utilizados são: {}'.format(sol))\n",
    "print('Peso na mochila {}'.format(np.sum(sol*w)))\n",
    "print('Ganho {}'.format(np.sum(sol*gain)))\n",
    "for e, i in enumerate(sol):\n",
    "    if i:\n",
    "        print('{} - Usa'.format(e+1))\n",
    "    else:\n",
    "        print('{} - Não'.format(e+1))"
   ]
  },
  {
   "cell_type": "code",
   "execution_count": 9,
   "metadata": {},
   "outputs": [
    {
     "data": {
      "image/png": "[encoded data removed]",
      "text/plain": [
       "<Figure size 432x288 with 1 Axes>"
      ]
     },
     "metadata": {
      "needs_background": "light"
     },
     "output_type": "display_data"
    }
   ],
   "source": [
    "# Plotting both the curves simultaneously\n",
    "X = range(n_iter)\n",
    "plt.plot(X, fitness_avg, color='r', label='Fitness Average')\n",
    "plt.plot(X, best_of_generation, color='g', label='Best of each gen.')\n",
    "  \n",
    "# Naming the x-axis, y-axis and the whole graph\n",
    "plt.xlabel(\"Generation\")\n",
    "plt.ylabel(\"Fitness\")\n",
    "plt.title(\"Evolution\")\n",
    "  \n",
    "# Adding legend, which helps us recognize the curve according to it's color\n",
    "plt.legend()\n",
    "  \n",
    "# To load the display window\n",
    "plt.show()"
   ]
  }
 ],
 "metadata": {
  "kernelspec": {
   "display_name": "Python 3",
   "language": "python",
   "name": "python3"
  },
  "language_info": {
   "codemirror_mode": {
    "name": "ipython",
    "version": 3
   },
   "file_extension": ".py",
   "mimetype": "text/x-python",
   "name": "python",
   "nbconvert_exporter": "python",
   "pygments_lexer": "ipython3",
   "version": "3.8.10"
  }
 },
 "nbformat": 4,
 "nbformat_minor": 2
}
