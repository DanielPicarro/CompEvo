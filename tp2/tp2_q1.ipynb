{
 "cells": [
  {
   "cell_type": "code",
   "execution_count": 56,
   "id": "21b36c5d",
   "metadata": {},
   "outputs": [
    {
     "name": "stdout",
     "output_type": "stream",
     "text": [
      "Word:   m**J*v**XKDa*Jk*T*M*X**G****\n",
      "\n",
      "Target: METHINKS*IT*IS*LIKE*A*WEASEL\n",
      "\n"
     ]
    },
    {
     "data": {
      "text/plain": [
       "753"
      ]
     },
     "execution_count": 56,
     "metadata": {},
     "output_type": "execute_result"
    }
   ],
   "source": [
    "import random\n",
    "import string\n",
    "import numpy as np\n",
    "\n",
    "def get_random_string(length=28):\n",
    "    # choose from all lowercase letter\n",
    "    letters = string.ascii_letters\n",
    "    return ''.join(random.choice(letters) for i in range(length))\n",
    "\n",
    "# se ficar ruim, uma possível melhora é \n",
    "def add_random_asterisk(word):\n",
    "    number_of_asterisks = random.randint(0,len(word))\n",
    "    for asterisk in range(number_of_asterisks):\n",
    "        random_idx = random.randint(0,len(word)-1)\n",
    "        word_to_list = list(word)\n",
    "        word_to_list[random_idx] = '*'\n",
    "        word = \"\".join(word_to_list)\n",
    "    return word\n",
    "                          \n",
    "def generate_pop(pop_size):\n",
    "    pop = []\n",
    "    for being in range(pop_size):\n",
    "        pop.append(add_random_asterisk(get_random_string()))\n",
    "    return pop\n",
    "\n",
    "def word_to_integer_vector(word):\n",
    "    return list(map(lambda x: ord(x),list(word)))\n",
    "\n",
    "def evaluate_loss_function(word, target=\"METHINKS*IT*IS*LIKE*A*WEASEL\"):\n",
    "    print(f\"Word:   {word}\\n\")\n",
    "    print(f\"Target: {target}\\n\")\n",
    "    result = []\n",
    "    int_word = word_to_integer_vector(word)\n",
    "    int_target = word_to_integer_vector(target)\n",
    "    for i in range(len(int_word)):\n",
    "        result.append(np.abs(int_word[i] - int_target[i]))\n",
    "    return np.sum(result)\n",
    "    \n",
    "word = generate_pop(1)[0]\n",
    "evaluate_loss_function(word)"
   ]
  },
  {
   "cell_type": "code",
   "execution_count": 9,
   "id": "14faf2fd",
   "metadata": {},
   "outputs": [],
   "source": [
    "# gerar pop."
   ]
  },
  {
   "cell_type": "code",
   "execution_count": 10,
   "id": "64866930",
   "metadata": {},
   "outputs": [],
   "source": [
    "# converter de char para int (ascii)"
   ]
  },
  {
   "cell_type": "code",
   "execution_count": 6,
   "id": "e0ec3600",
   "metadata": {},
   "outputs": [],
   "source": [
    "# função de custo\n",
    "# soma das diferenças entre os valores das duas strings"
   ]
  },
  {
   "cell_type": "code",
   "execution_count": 7,
   "id": "ecdb0d11",
   "metadata": {},
   "outputs": [],
   "source": [
    "# mutação\n",
    "# escolhe posição aleatória e troca char."
   ]
  },
  {
   "cell_type": "code",
   "execution_count": 11,
   "id": "96b78294",
   "metadata": {},
   "outputs": [],
   "source": [
    "# selecionar os melhores indivíudos (ranking dos indivíduos)\n",
    "# no caso, isso não vai ser feito\n",
    "# cruzaremos todos os indivíduos\n",
    "# se ficar ruim, tentamos outra abordagem: tipo ordear indivíduos e cruzar melhores entre si."
   ]
  },
  {
   "cell_type": "code",
   "execution_count": 12,
   "id": "ce2eedac",
   "metadata": {},
   "outputs": [],
   "source": [
    "# cross (reprodução)\n",
    "# recebe dois indivíduos e gera dois filhos \n",
    "# um ponto de corte aleatório"
   ]
  }
 ],
 "metadata": {
  "kernelspec": {
   "display_name": "Python 3",
   "language": "python",
   "name": "python3"
  },
  "language_info": {
   "codemirror_mode": {
    "name": "ipython",
    "version": 3
   },
   "file_extension": ".py",
   "mimetype": "text/x-python",
   "name": "python",
   "nbconvert_exporter": "python",
   "pygments_lexer": "ipython3",
   "version": "3.8.10"
  }
 },
 "nbformat": 4,
 "nbformat_minor": 5
}
