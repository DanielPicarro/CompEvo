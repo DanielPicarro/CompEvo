{
 "cells": [
  {
   "cell_type": "code",
   "execution_count": 4,
   "id": "849fbe72",
   "metadata": {},
   "outputs": [
    {
     "data": {
      "text/plain": [
       "'xuywgeiwtiyhrjgmkcjz'"
      ]
     },
     "execution_count": 4,
     "metadata": {},
     "output_type": "execute_result"
    }
   ],
   "source": [
    "import random\n",
    "import string\n",
    "\n",
    "def get_random_string(length):\n",
    "    # choose from all lowercase letter\n",
    "    letters = string.ascii_lowercase\n",
    "    return ''.join(random.choice(letters) for i in range(length))\n",
    "    \n",
    "get_random_string(20)"
   ]
  },
  {
   "cell_type": "code",
   "execution_count": 9,
   "id": "bb9c2490",
   "metadata": {},
   "outputs": [],
   "source": [
    "# gerar pop."
   ]
  },
  {
   "cell_type": "code",
   "execution_count": null,
   "id": "9ffb038e",
   "metadata": {},
   "outputs": [],
   "source": [
    "# converter de char para int (ascii)"
   ]
  },
  {
   "cell_type": "code",
   "execution_count": 6,
   "id": "223eaf50",
   "metadata": {},
   "outputs": [],
   "source": [
    "# função de custo\n",
    "#  soma das diferenças entre os valores das duas strings"
   ]
  },
  {
   "cell_type": "code",
   "execution_count": 7,
   "id": "6b8342b1",
   "metadata": {},
   "outputs": [],
   "source": [
    "# mutação\n",
    "# um ponto de corte aleatório"
   ]
  },
  {
   "cell_type": "code",
   "execution_count": null,
   "id": "a4d174ae",
   "metadata": {},
   "outputs": [],
   "source": [
    "# selecionar os melhores indivíudos (ranking dos indivíduos)\n",
    "# no caso, isso não vai ser feito\n",
    "# cruzaremos todos os indivíduos\n",
    "# se ficar ruim, tentamos outra abordagem: tipo ordear indivíduos e cruzar melhores entre si."
   ]
  },
  {
   "cell_type": "code",
   "execution_count": null,
   "id": "fdf24909",
   "metadata": {},
   "outputs": [],
   "source": [
    "# cross (reprodução)\n",
    "# recebe dois indivíduos e gera dois filhos "
   ]
  }
 ],
 "metadata": {
  "kernelspec": {
   "display_name": "Python 3",
   "language": "python",
   "name": "python3"
  },
  "language_info": {
   "codemirror_mode": {
    "name": "ipython",
    "version": 3
   },
   "file_extension": ".py",
   "mimetype": "text/x-python",
   "name": "python",
   "nbconvert_exporter": "python",
   "pygments_lexer": "ipython3",
   "version": "3.8.10"
  }
 },
 "nbformat": 4,
 "nbformat_minor": 5
}
