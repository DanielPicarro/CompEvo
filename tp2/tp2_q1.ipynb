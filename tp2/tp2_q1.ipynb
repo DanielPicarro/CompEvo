{
 "cells": [
  {
   "cell_type": "code",
   "execution_count": 68,
   "id": "21b36c5d",
   "metadata": {},
   "outputs": [
    {
     "ename": "NameError",
     "evalue": "name 'values_representation' is not defined",
     "output_type": "error",
     "traceback": [
      "\u001b[0;31m---------------------------------------------------------------------------\u001b[0m",
      "\u001b[0;31mNameError\u001b[0m                                 Traceback (most recent call last)",
      "\u001b[0;32m<ipython-input-68-444f6f47e15f>\u001b[0m in \u001b[0;36m<module>\u001b[0;34m\u001b[0m\n\u001b[1;32m     63\u001b[0m     \u001b[0;32mreturn\u001b[0m \u001b[0mvalues_representation\u001b[0m\u001b[0;34m[\u001b[0m\u001b[0mp\u001b[0m\u001b[0;34m]\u001b[0m\u001b[0;34m\u001b[0m\u001b[0;34m\u001b[0m\u001b[0m\n\u001b[1;32m     64\u001b[0m \u001b[0;34m\u001b[0m\u001b[0m\n\u001b[0;32m---> 65\u001b[0;31m \u001b[0mget_caract_random\u001b[0m\u001b[0;34m(\u001b[0m\u001b[0;34m)\u001b[0m\u001b[0;34m\u001b[0m\u001b[0;34m\u001b[0m\u001b[0m\n\u001b[0m\u001b[1;32m     66\u001b[0m \u001b[0;34m\u001b[0m\u001b[0m\n\u001b[1;32m     67\u001b[0m \u001b[0mwords\u001b[0m \u001b[0;34m=\u001b[0m \u001b[0mgenerate_pop\u001b[0m\u001b[0;34m(\u001b[0m\u001b[0;36m2\u001b[0m\u001b[0;34m)\u001b[0m\u001b[0;34m\u001b[0m\u001b[0;34m\u001b[0m\u001b[0m\n",
      "\u001b[0;32m<ipython-input-68-444f6f47e15f>\u001b[0m in \u001b[0;36mget_caract_random\u001b[0;34m()\u001b[0m\n\u001b[1;32m     60\u001b[0m \u001b[0;34m\u001b[0m\u001b[0m\n\u001b[1;32m     61\u001b[0m \u001b[0;32mdef\u001b[0m \u001b[0mget_caract_random\u001b[0m\u001b[0;34m(\u001b[0m\u001b[0;34m)\u001b[0m\u001b[0;34m:\u001b[0m\u001b[0;34m\u001b[0m\u001b[0;34m\u001b[0m\u001b[0m\n\u001b[0;32m---> 62\u001b[0;31m     \u001b[0mp\u001b[0m \u001b[0;34m=\u001b[0m \u001b[0mrandom\u001b[0m\u001b[0;34m.\u001b[0m\u001b[0mrandint\u001b[0m\u001b[0;34m(\u001b[0m\u001b[0;36m0\u001b[0m\u001b[0;34m,\u001b[0m\u001b[0mlen\u001b[0m\u001b[0;34m(\u001b[0m\u001b[0mvalues_representation\u001b[0m\u001b[0;34m)\u001b[0m\u001b[0;34m-\u001b[0m\u001b[0;36m1\u001b[0m\u001b[0;34m)\u001b[0m\u001b[0;34m\u001b[0m\u001b[0;34m\u001b[0m\u001b[0m\n\u001b[0m\u001b[1;32m     63\u001b[0m     \u001b[0;32mreturn\u001b[0m \u001b[0mvalues_representation\u001b[0m\u001b[0;34m[\u001b[0m\u001b[0mp\u001b[0m\u001b[0;34m]\u001b[0m\u001b[0;34m\u001b[0m\u001b[0;34m\u001b[0m\u001b[0m\n\u001b[1;32m     64\u001b[0m \u001b[0;34m\u001b[0m\u001b[0m\n",
      "\u001b[0;31mNameError\u001b[0m: name 'values_representation' is not defined"
     ]
    }
   ],
   "source": [
    "import random\n",
    "import string\n",
    "import numpy as np\n",
    "import random as rd\n",
    "\n",
    "def get_random_string(length=28):\n",
    "    # choose from all lowercase letter\n",
    "    letters = string.ascii_letters\n",
    "    return ''.join(random.choice(letters) for i in range(length))\n",
    "\n",
    "# se ficar ruim, uma possível melhora é \n",
    "def add_random_asterisk(word):\n",
    "    number_of_asterisks = random.randint(0,len(word))\n",
    "    for asterisk in range(number_of_asterisks):\n",
    "        random_idx = random.randint(0,len(word)-1)\n",
    "        word_to_list = list(word)\n",
    "        word_to_list[random_idx] = '*'\n",
    "        word = \"\".join(word_to_list)\n",
    "    return word\n",
    "                          \n",
    "def generate_pop(pop_size):\n",
    "    pop = []\n",
    "    for being in range(pop_size):\n",
    "        pop.append(add_random_asterisk(get_random_string()))\n",
    "    return pop\n",
    "\n",
    "def word_to_integer_vector(word):\n",
    "    return list(map(lambda x: ord(x),list(word)))\n",
    "\n",
    "def evaluate_loss_function(word, target=\"METHINKS*IT*IS*LIKE*A*WEASEL\"):\n",
    "    print(f\"Word:   {word}\\n\")\n",
    "    print(f\"Target: {target}\\n\")\n",
    "    result = []\n",
    "    int_word = word_to_integer_vector(word)\n",
    "    int_target = word_to_integer_vector(target)\n",
    "    for i in range(len(int_word)):\n",
    "        result.append(np.abs(int_word[i] - int_target[i]))\n",
    "    return np.sum(result)\n",
    "\n",
    "def crossover(subset_parents, cross_over_rate):\n",
    "    print(subset_parents)\n",
    "    if float(rd.randint(0, 10))/10 <= cross_over_rate:\n",
    "        size_n = len(subset_parents[0])\n",
    "        cut_v = random.randint(1, size_n-1)\n",
    "        son1 = subset_parents[0][0:cut_v] + subset_parents[1][cut_v:]\n",
    "        son2 = subset_parents[1][0:cut_v] + subset_parents[0][cut_v:]\n",
    "    else:\n",
    "        son1, son2 = subset_parents\n",
    "    return son1, son2\n",
    "\n",
    "values_representation = list(np.arange(48,58)) #maiusculos\n",
    "values_representation += list(np.arange(65,91))#minusculos\n",
    "values_representation += [42] #*\n",
    "\n",
    "def get_caract_random():\n",
    "    p = random.randint(0,len(values_representation))\n",
    "    return values_representation[p]\n",
    "\n",
    "def mutation(population, mutation_rate):\n",
    "    size_ind = len(population[0])\n",
    "    if float(random.randint(0, 10))*10 <= mutation_rate:\n",
    "        population_copy = copy.copy(population)\n",
    "        for i in len(population_copy):\n",
    "            loc = random.int(0,size_ind-1)\n",
    "            mut = get_repres_random()\n",
    "            population_copy[i,loc] = mut\n",
    "    return population_copy\n",
    "\n",
    "def get_caract_random():\n",
    "    p = random.randint(0,len(values_representation)-1)\n",
    "    return values_representation[p]\n",
    "\n",
    "get_caract_random()\n",
    "\n",
    "words = generate_pop(2)\n",
    "crossover(words, 0)"
   ]
  },
  {
   "cell_type": "code",
   "execution_count": 9,
   "id": "14faf2fd",
   "metadata": {},
   "outputs": [],
   "source": [
    "# gerar pop."
   ]
  },
  {
   "cell_type": "code",
   "execution_count": 10,
   "id": "64866930",
   "metadata": {},
   "outputs": [],
   "source": [
    "# converter de char para int (ascii)"
   ]
  },
  {
   "cell_type": "code",
   "execution_count": 6,
   "id": "e0ec3600",
   "metadata": {},
   "outputs": [],
   "source": [
    "# função de custo\n",
    "# soma das diferenças entre os valores das duas strings"
   ]
  },
  {
   "cell_type": "code",
   "execution_count": 7,
   "id": "ecdb0d11",
   "metadata": {},
   "outputs": [],
   "source": [
    "# mutação\n",
    "# escolhe posição aleatória e troca char."
   ]
  },
  {
   "cell_type": "code",
   "execution_count": 11,
   "id": "96b78294",
   "metadata": {},
   "outputs": [],
   "source": [
    "# selecionar os melhores indivíudos (ranking dos indivíduos)\n",
    "# no caso, isso não vai ser feito\n",
    "# cruzaremos todos os indivíduos\n",
    "# se ficar ruim, tentamos outra abordagem: tipo ordear indivíduos e cruzar melhores entre si.\n",
    "\n",
    "# chegamos na conclusão que não faz muito sentido, tendo em vista que não estamosa forçando seleção natural.\n",
    "# vamos fazer igual fizemos nos outros "
   ]
  },
  {
   "cell_type": "code",
   "execution_count": 62,
   "id": "ce2eedac",
   "metadata": {},
   "outputs": [],
   "source": [
    "# cross (reprodução)\n",
    "# recebe dois indivíduos e gera dois filhos \n",
    "# um ponto de corte aleatório"
   ]
  },
  {
   "cell_type": "code",
   "execution_count": 67,
   "id": "73cad140",
   "metadata": {},
   "outputs": [],
   "source": [
    "pop = generate_pop(20)\n"
   ]
  }
 ],
 "metadata": {
  "kernelspec": {
   "display_name": "Python 3",
   "language": "python",
   "name": "python3"
  },
  "language_info": {
   "codemirror_mode": {
    "name": "ipython",
    "version": 3
   },
   "file_extension": ".py",
   "mimetype": "text/x-python",
   "name": "python",
   "nbconvert_exporter": "python",
   "pygments_lexer": "ipython3",
   "version": "3.8.10"
  }
 },
 "nbformat": 4,
 "nbformat_minor": 5
}
