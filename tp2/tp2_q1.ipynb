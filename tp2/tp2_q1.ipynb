{
 "cells": [
  {
   "cell_type": "code",
   "execution_count": 73,
   "id": "21b36c5d",
   "metadata": {},
   "outputs": [],
   "source": [
    "import random\n",
    "import string\n",
    "import numpy as np\n",
    "import random as rd\n",
    "\n",
    "values_representation = list(np.arange(48,58)) #maiusculos\n",
    "values_representation += list(np.arange(65,91))#minusculos\n",
    "values_representation += [42] #*\n",
    "\n",
    "def get_random_string(length=28):\n",
    "    # choose from all lowercase letter\n",
    "    letters = string.ascii_letters\n",
    "    return ''.join(random.choice(letters) for i in range(length))\n",
    "\n",
    "# se ficar ruim, uma possível melhora é \n",
    "def add_random_asterisk(word):\n",
    "    number_of_asterisks = random.randint(0,len(word))\n",
    "    for asterisk in range(number_of_asterisks):\n",
    "        random_idx = random.randint(0,len(word)-1)\n",
    "        word_to_list = list(word)\n",
    "        word_to_list[random_idx] = '*'\n",
    "        word = \"\".join(word_to_list)\n",
    "    return word"
   ]
  },
  {
   "cell_type": "code",
   "execution_count": 9,
   "id": "14faf2fd",
   "metadata": {},
   "outputs": [],
   "source": [
    "# gerar pop.\n",
    "\n",
    "def generate_pop(pop_size):\n",
    "    pop = []\n",
    "    for being in range(pop_size):\n",
    "        pop.append(add_random_asterisk(get_random_string()))\n",
    "    return pop"
   ]
  },
  {
   "cell_type": "code",
   "execution_count": 116,
   "id": "64866930",
   "metadata": {},
   "outputs": [],
   "source": [
    "# converter de char para int (ascii)\n",
    "\n",
    "def word_to_integer_vector(word):\n",
    "    return list(map(lambda x: ord(x),list(word)))\n",
    "\n",
    "def w2c_entire_pop(pop):\n",
    "    return list(map(lambda x: word_to_integer_vector(x), pop))\n",
    "\n",
    "def integer_to_word_vector(vector):\n",
    "    return ''.join(list(map(lambda x: chr(x),vector)))\n",
    "\n",
    "def c2w_entire_pop(pop):\n",
    "    return list(map(lambda x: integer_to_word_vector(x), pop))"
   ]
  },
  {
   "cell_type": "code",
   "execution_count": 121,
   "id": "e0ec3600",
   "metadata": {},
   "outputs": [],
   "source": [
    "# função de custo\n",
    "# soma das diferenças entre os valores das duas strings\n",
    "\n",
    "# recebe vetor de ints (que representa uma palavra)\n",
    "def evaluate_loss_function(int_vec_word, target=\"METHINKS*IT*IS*LIKE*A*WEASEL\"):\n",
    "    print(f\"Word:   {integer_to_word_vector(int_vec_word)}\\n\")\n",
    "    print(f\"Target: {target}\\n\")\n",
    "    result = []\n",
    "    int_target = word_to_integer_vector(target)\n",
    "    for i in range(len(int_vec_word)):\n",
    "        result.append(np.abs(int_vec_word[i] - int_target[i]))\n",
    "    return np.sum(result)"
   ]
  },
  {
   "cell_type": "code",
   "execution_count": 7,
   "id": "ecdb0d11",
   "metadata": {},
   "outputs": [],
   "source": [
    "# mutação\n",
    "# escolhe posição aleatória e troca char.\n",
    "\n",
    "def get_caract_random():\n",
    "    p = random.randint(0,len(values_representation)-1)\n",
    "    return values_representation[p]\n",
    "\n",
    "# mudei o if pra dentro do laço\n",
    "def mutation(population, mutation_rate):\n",
    "    size_ind = len(population[0])\n",
    "    population_copy = copy.copy(population)\n",
    "    for i in len(population_copy):\n",
    "        if float(random.randint(0, 10))*10 <= mutation_rate:\n",
    "            loc = random.int(0,size_ind-1)\n",
    "            mut = get_repres_random()\n",
    "            population_copy[i,loc] = mut\n",
    "    return population_copy"
   ]
  },
  {
   "cell_type": "code",
   "execution_count": 11,
   "id": "96b78294",
   "metadata": {},
   "outputs": [],
   "source": [
    "# selecionar os melhores indivíudos (ranking dos indivíduos)\n",
    "# no caso, isso não vai ser feito\n",
    "# cruzaremos todos os indivíduos\n",
    "# se ficar ruim, tentamos outra abordagem: tipo ordear indivíduos e cruzar melhores entre si.\n",
    "\n",
    "# chegamos na conclusão que não faz muito sentido, tendo em vista que não estamosa forçando seleção natural.\n",
    "# vamos fazer igual fizemos nos outros \n",
    "\n",
    "def selection(population, cut):\n",
    "    scores = []\n",
    "    # escolhendo 5 indivíduos aleatórios     \n",
    "    for individual in random.choices(population, k=5):\n",
    "        fitness_score = fitness_nq(individual)\n",
    "        scores.append((fitness_score, individual))\n",
    "    sorted_scores = sorted(scores, key=lambda tup: tup[0])\n",
    "    best_ones = sorted_scores[:cut] \n",
    "    return list(map(lambda x: x[1], best_ones))"
   ]
  },
  {
   "cell_type": "code",
   "execution_count": 72,
   "id": "ce2eedac",
   "metadata": {},
   "outputs": [],
   "source": [
    "# cross (reprodução)\n",
    "# recebe dois indivíduos e gera dois filhos \n",
    "# um ponto de corte aleatório\n",
    "\n",
    "def crossover(subset_parents, cross_over_rate):\n",
    "    print(subset_parents)\n",
    "    if float(rd.randint(0, 10))/10 <= cross_over_rate:\n",
    "        size_n = len(subset_parents[0])\n",
    "        cut_v = random.randint(1, size_n-1)\n",
    "        son1 = subset_parents[0][0:cut_v] + subset_parents[1][cut_v:]\n",
    "        son2 = subset_parents[1][0:cut_v] + subset_parents[0][cut_v:]\n",
    "    else:\n",
    "        son1, son2 = subset_parents\n",
    "    return son1, son2"
   ]
  },
  {
   "cell_type": "markdown",
   "id": "735d5612",
   "metadata": {},
   "source": [
    "## Só testando as funções "
   ]
  },
  {
   "cell_type": "code",
   "execution_count": 76,
   "id": "15ae346b",
   "metadata": {},
   "outputs": [
    {
     "data": {
      "text/plain": [
       "'GcyPKpYAwbWrpThBSAIgSvOBnoUa'"
      ]
     },
     "execution_count": 76,
     "metadata": {},
     "output_type": "execute_result"
    }
   ],
   "source": [
    "random_string = get_random_string()\n",
    "random_string"
   ]
  },
  {
   "cell_type": "code",
   "execution_count": 78,
   "id": "f3c49626",
   "metadata": {},
   "outputs": [
    {
     "data": {
      "text/plain": [
       "'G*******wb*rpT***AI*****n**a'"
      ]
     },
     "execution_count": 78,
     "metadata": {},
     "output_type": "execute_result"
    }
   ],
   "source": [
    "random_string = add_random_asterisk(random_string)\n",
    "random_string"
   ]
  },
  {
   "cell_type": "code",
   "execution_count": 80,
   "id": "720b04d0",
   "metadata": {},
   "outputs": [
    {
     "data": {
      "text/plain": [
       "['*NOzuUdFE*g*lSoUi*h*RL*OiJiV',\n",
       " '*d*IkzzRd*v**w***Vp***T**r*c',\n",
       " '*fDX**TE***b*****TA*LB*e***p',\n",
       " '**qG***ih*l*p*x***xF****q*wz',\n",
       " 'n*khRcZD*qV*J*YBKm**Ox**D*Rr',\n",
       " 'mFy*CWyRJpfUdkCp***crwATatfx',\n",
       " 'ftSjnhxCCHNIsBK*kG*v*lVneRKK',\n",
       " '*****D*llK*****P********mAxD',\n",
       " 'Q**Qyn*v**nnS*XbT*StUZy*kZ*m',\n",
       " 'pm**ktMrgfvFP*uAMEAxtM*dgQCe']"
      ]
     },
     "execution_count": 80,
     "metadata": {},
     "output_type": "execute_result"
    }
   ],
   "source": [
    "initial_pop = generate_pop(10)\n",
    "initial_pop"
   ]
  },
  {
   "cell_type": "code",
   "execution_count": 103,
   "id": "ed2c76b3",
   "metadata": {},
   "outputs": [
    {
     "name": "stdout",
     "output_type": "stream",
     "text": [
      "[[42, 78, 79, 122, 117, 85, 100, 70, 69, 42, 103, 42, 108, 83, 111, 85, 105, 42, 104, 42, 82, 76, 42, 79, 105, 74, 105, 86]]\n"
     ]
    }
   ],
   "source": [
    "processed_pop = process_entire_pop(initial_pop)\n",
    "print(processed_pop[:1])"
   ]
  },
  {
   "cell_type": "code",
   "execution_count": 129,
   "id": "d012988b",
   "metadata": {},
   "outputs": [
    {
     "name": "stdout",
     "output_type": "stream",
     "text": [
      "Word:   **qG***ih*l*p*x***xF****q*wz\n",
      "\n",
      "Target: METHINKS*IT*IS*LIKE*A*WEASEL\n",
      "\n"
     ]
    },
    {
     "data": {
      "text/plain": [
       "946"
      ]
     },
     "execution_count": 129,
     "metadata": {},
     "output_type": "execute_result"
    }
   ],
   "source": [
    "test_eval = evaluate_loss_function(processed_pop[3])\n",
    "test_eval"
   ]
  },
  {
   "cell_type": "code",
   "execution_count": 118,
   "id": "c7b8de6d",
   "metadata": {},
   "outputs": [
    {
     "data": {
      "text/plain": [
       "['*NOzuUdFE*g*lSoUi*h*RL*OiJiV',\n",
       " '*d*IkzzRd*v**w***Vp***T**r*c',\n",
       " '*fDX**TE***b*****TA*LB*e***p',\n",
       " '**qG***ih*l*p*x***xF****q*wz',\n",
       " 'n*khRcZD*qV*J*YBKm**Ox**D*Rr',\n",
       " 'mFy*CWyRJpfUdkCp***crwATatfx',\n",
       " 'ftSjnhxCCHNIsBK*kG*v*lVneRKK',\n",
       " '*****D*llK*****P********mAxD',\n",
       " 'Q**Qyn*v**nnS*XbT*StUZy*kZ*m',\n",
       " 'pm**ktMrgfvFP*uAMEAxtM*dgQCe']"
      ]
     },
     "execution_count": 118,
     "metadata": {},
     "output_type": "execute_result"
    }
   ],
   "source": [
    "c2w_entire_pop(processed_pop)"
   ]
  },
  {
   "cell_type": "code",
   "execution_count": null,
   "id": "d108b88e",
   "metadata": {},
   "outputs": [],
   "source": []
  },
  {
   "cell_type": "code",
   "execution_count": null,
   "id": "752739ee",
   "metadata": {},
   "outputs": [],
   "source": [
    "# pop = generate_pop(200)\n",
    "# cross_over_rate = 1.0\n",
    "# mutation_rate = 1\n",
    "# sol = []"
   ]
  },
  {
   "cell_type": "code",
   "execution_count": 67,
   "id": "af3171e3",
   "metadata": {},
   "outputs": [],
   "source": [
    "# %%time\n",
    "\n",
    "# n_iter = 0\n",
    "\n",
    "# fitness_avg = []\n",
    "# best_of_generation = []\n",
    "# smallest_fitness = 1\n",
    "\n",
    "# while n_iter < 20 and smallest_fitness > 0:\n",
    "#     subset_parents = selection(pop, 2)\n",
    "#     offspring = crossover(subset_parents, cross_over_rate)\n",
    "#     offspring_new = mutation(offspring, mutation_rate)\n",
    "#     pop = replacement(offspring_new, pop)\n",
    "    \n",
    "#     fitness_scores = []\n",
    "#     smallest_fitness = fitness_nq(pop[0])\n",
    "    \n",
    "#     for p in pop:\n",
    "#         v = fitness_nq(p)\n",
    "#         fitness_scores.append(v)\n",
    "#         if v < smallest_fitness:\n",
    "#             smallest_fitness = v\n",
    "#             sol = copy.copy(p)\n",
    "            \n",
    "#     best_of_generation.append(smallest_fitness)\n",
    "            \n",
    "#     current_fitness_avg = sum(fitness_scores)/len(fitness_scores)\n",
    "#     fitness_avg.append(current_fitness_avg)\n",
    "# #     print (f\"Fitness média da geração {n_iter}: {current_fitness_avg}\\n\")    \n",
    "#     n_iter += 1\n",
    "\n",
    "# print(f\"Melhor solução encontrada: {sol}\")\n",
    "# print(f\"Fitness da melhor solução encontrada: {smallest_fitness}\")"
   ]
  }
 ],
 "metadata": {
  "kernelspec": {
   "display_name": "Python 3",
   "language": "python",
   "name": "python3"
  },
  "language_info": {
   "codemirror_mode": {
    "name": "ipython",
    "version": 3
   },
   "file_extension": ".py",
   "mimetype": "text/x-python",
   "name": "python",
   "nbconvert_exporter": "python",
   "pygments_lexer": "ipython3",
   "version": "3.8.10"
  }
 },
 "nbformat": 4,
 "nbformat_minor": 5
}
