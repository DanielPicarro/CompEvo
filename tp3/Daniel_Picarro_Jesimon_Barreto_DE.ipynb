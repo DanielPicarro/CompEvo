{
 "cells": [
  {
   "cell_type": "markdown",
   "id": "0ce7ebe1",
   "metadata": {},
   "source": [
    "# A fazer\n",
    "- inserir funções de custo\n",
    "- corrigir falha da função de gerar pop.\n",
    " - quando não é uma matriz quadrada, ele reclama"
   ]
  },
  {
   "cell_type": "code",
   "execution_count": 87,
   "id": "5227ac5d",
   "metadata": {},
   "outputs": [],
   "source": [
    "import numpy as np\n",
    "import random\n",
    "import copy"
   ]
  },
  {
   "cell_type": "markdown",
   "id": "a67905ad",
   "metadata": {},
   "source": [
    "## Funções"
   ]
  },
  {
   "cell_type": "code",
   "execution_count": 101,
   "id": "f71a7eb4",
   "metadata": {},
   "outputs": [],
   "source": [
    "# Gerando pop. inicial\n",
    "\n",
    "# N -> tamanho da pop. (TEM QUE SER MAIOR QUE 3)\n",
    "# n -> quantidade de variáveis\n",
    "# low -> limite inferior da distribuição uniforme\n",
    "# high -> limite superior da distribuição uniforme\n",
    "def init_pop(N:int, n:int, low:int, high:int):\n",
    "    pop = np.zeros((1, N, n))\n",
    "    for i in range (n):\n",
    "        s = np.random.uniform(low, high, N)\n",
    "        pop[0][i] = s\n",
    "    return pop\n",
    "\n",
    "# recebe a pop. e retorna 3 indivíduos (r1, r2, r3) -> cada um é um vetor unidimensional\n",
    "def select_three(pop):\n",
    "    rand_idxs = random.sample(range(0, pop.shape[1]), 3)\n",
    "    return pop[:,rand_idxs[0]], pop[:,rand_idxs[1]], pop[:,rand_idxs[2]]\n",
    "\n",
    "def evaluate(v):\n",
    "    # dummy só para testar funcionamento     \n",
    "    return np.sum(v)"
   ]
  },
  {
   "cell_type": "markdown",
   "id": "5c55b40d",
   "metadata": {},
   "source": [
    "## Alguns testes, só pra ver funcionando"
   ]
  },
  {
   "cell_type": "code",
   "execution_count": 116,
   "id": "ca122951",
   "metadata": {},
   "outputs": [
    {
     "data": {
      "text/plain": [
       "(array([ 0.74902749, -1.97593506, -1.02525026, -0.34161412]),\n",
       " array([-0.74561184,  1.92473953,  1.82930971,  1.11854067]),\n",
       " array([-0.44410435,  0.67229713, -1.13369888, -0.48744249]))"
      ]
     },
     "execution_count": 116,
     "metadata": {},
     "output_type": "execute_result"
    }
   ],
   "source": [
    "a = init_pop(4,4,-2,2)\n",
    "np.append(a, np.zeros((1 ,4, 4)), axis=0)"
   ]
  },
  {
   "cell_type": "code",
   "execution_count": 117,
   "id": "90a020f1",
   "metadata": {},
   "outputs": [
    {
     "data": {
      "text/plain": [
       "(array([-1.26862244,  0.51278226,  1.06827535,  0.57661016]),\n",
       " array([-0.74561184,  1.92473953,  1.82930971,  1.11854067]),\n",
       " array([ 0.74902749, -1.97593506, -1.02525026, -0.34161412]))"
      ]
     },
     "execution_count": 117,
     "metadata": {},
     "output_type": "execute_result"
    }
   ],
   "source": [
    "select_three(a[0])"
   ]
  },
  {
   "cell_type": "markdown",
   "id": "b6a47034",
   "metadata": {},
   "source": [
    "## Parte que importa "
   ]
  },
  {
   "cell_type": "code",
   "execution_count": 90,
   "id": "69ebc39d",
   "metadata": {},
   "outputs": [],
   "source": [
    "N = 5 \n",
    "n = 5\n",
    "low = -2\n",
    "high = 2\n",
    "\n",
    "# probabilidade de recombinacão. Sugestao: C ∈ [0.6, 0.9]\n",
    "C = 0.6\n",
    "\n",
    "# fator de escala. Sugestão F ∈ [0.7, 0.9]\n",
    "F = 0.7\n",
    "\n",
    "# inicializa pop.\n",
    "pop = init_pop(N,n,low,high)"
   ]
  },
  {
   "cell_type": "code",
   "execution_count": 115,
   "id": "d1e5221f",
   "metadata": {},
   "outputs": [],
   "source": [
    "n_iter = 0\n",
    "\n",
    "# enquanto crit. parada não satisfeito\n",
    "while n_iter <= 10:\n",
    "    \n",
    "    # pega \"camada mais recente\" da pop.\n",
    "    t_pop = copy.copy(pop[-1])\n",
    "    \n",
    "    # \"mi\" descrito no enunciado, solução mutante (\"mais uma camada do bolo\")\n",
    "    solucao_mutante = np.zeros((N, n))\n",
    "    \n",
    "    new_layer = np.zeros((N, n))\n",
    "    \n",
    "    # iterando entre indivíduos\n",
    "    for i in range(N):\n",
    "        r1, r2, r3 = select_three(t_pop)\n",
    "        sigma = random.randint(0, N)\n",
    "        # iterando entre variáveis de um indivíduo\n",
    "        for j in range(n):\n",
    "            if np.random.uniform(0, 1) <= C or j == sigma:\n",
    "                solucao_mutante[i][j] = r1[j] + F*(r2[j] - r3[j])\n",
    "            else:\n",
    "                solucao_mutante[i][j] = t_pop[i][j]\n",
    "        \n",
    "        # avaliamos o indivíduo e a solução mutante\n",
    "        # se solução mutante for melhor, substitui-se o indivíduo original pela solução mutante\n",
    "        if evaluate(solucao_mutante[:, i]) <= evaluate(t_pop[:, i]):\n",
    "            new_layer[:, i] = solucao_mutante[:, i]\n",
    "        else:\n",
    "            new_layer[:, i] = t_pop[:, i]\n",
    "    \n",
    "    pop = np.concatenate((pop, [new_layer]), axis=0)        \n",
    "    n_iter += 1"
   ]
  }
 ],
 "metadata": {
  "kernelspec": {
   "display_name": "Python 3",
   "language": "python",
   "name": "python3"
  },
  "language_info": {
   "codemirror_mode": {
    "name": "ipython",
    "version": 3
   },
   "file_extension": ".py",
   "mimetype": "text/x-python",
   "name": "python",
   "nbconvert_exporter": "python",
   "pygments_lexer": "ipython3",
   "version": "3.8.10"
  }
 },
 "nbformat": 4,
 "nbformat_minor": 5
}
