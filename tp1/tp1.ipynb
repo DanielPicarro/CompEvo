{
 "cells": [
  {
   "cell_type": "code",
   "execution_count": 29,
   "metadata": {},
   "outputs": [],
   "source": [
    "# Selection: avalia {pop} indivíduos aleatórias e retorna as duas melhores \n",
    "\n",
    "# Crossover: cruza dois indivíduos e gera dois novos\n",
    "#    Particionamento\n",
    "#    Merge\n",
    "#    Retirar repetição\n",
    "   \n",
    "# Mutation: retorna um subset (2 indivíduos) como resultado da mutação dos filhos \n",
    "\n",
    "# Replacement: troca os dois piores "
   ]
  },
  {
   "cell_type": "code",
   "execution_count": 67,
   "metadata": {},
   "outputs": [],
   "source": [
    "import random as rd\n",
    "import numpy as np\n",
    "import random\n",
    "import copy"
   ]
  },
  {
   "cell_type": "markdown",
   "metadata": {},
   "source": [
    "# Problema\n",
    "Resolver o problema de posicionar n rainhas no tabuleiro de Xadrez, sem que as rainhas se coloquem em cheque.\n",
    "\n",
    "# Funções Implementadas\n",
    "\n",
    "### init_population \n",
    "Gera uma população inicial utilizando a representação genotípica. O tabuleiro (matriz nxn) é representado de tal maneira que cada posição do vetor representa uma linha e a coluna é representada pelo valor no vetor.\n",
    "\n",
    "### fitness_nq\n",
    "Calcula o número de cheques que acontecem de acordo com as posições das rainhas."
   ]
  },
  {
   "cell_type": "code",
   "execution_count": 68,
   "metadata": {},
   "outputs": [],
   "source": [
    "def init_population(_mu:int = 20, n:int = 8):\n",
    "    population = []\n",
    "    for i in range (_mu):\n",
    "        population.append(rd.sample(range(n), n))\n",
    "    return population\n",
    "\n",
    "def fitness_nq(solution):\n",
    "    xeques = 0\n",
    "    for i in range(0,len(solution)):\n",
    "        for j in range(0,len(solution)):\n",
    "            if i!=j:\n",
    "                if i-solution[i] == j-solution[j] or i+solution[i] == j+solution[j]:\n",
    "                    xeques+=1\n",
    "    return xeques"
   ]
  },
  {
   "cell_type": "markdown",
   "metadata": {},
   "source": [
    "### Selection\n",
    "Seleciona um subconjunto das duas melhores soluções presentes na população."
   ]
  },
  {
   "cell_type": "code",
   "execution_count": 69,
   "metadata": {},
   "outputs": [],
   "source": [
    "def selection(population, cut):\n",
    "    scores = []\n",
    "    for individual in population:\n",
    "        fitness_score = fitness_nq(individual)\n",
    "        scores.append((fitness_score, individual))\n",
    "    sorted_scores = sorted(scores, key=lambda tup: tup[0])\n",
    "    best_ones = sorted_scores[-cut:] \n",
    "    return list(map(lambda x: x[1], best_ones))\n"
   ]
  },
  {
   "cell_type": "markdown",
   "metadata": {},
   "source": [
    "### Crossover\n",
    "Faz a junção das duas melhores soluções de maneira aleatoria. Isso é feito selecionando uma posição aleatoria, separa as duas soluções nessa posição e uni o inicio de uma solução ao fim de outra."
   ]
  },
  {
   "cell_type": "code",
   "execution_count": 94,
   "metadata": {},
   "outputs": [],
   "source": [
    "def crossover(subset_parents, cross_over_rate):\n",
    "    if float(rd.randint(0, 10))/10 <= cross_over_rate:\n",
    "        size_n = len(subset_parents[0])\n",
    "        cut_v = random.randint(1, size_n-1)\n",
    "        son1 = subset_parents[0][0:cut_v] + subset_parents[1][cut_v:]\n",
    "        son2 = subset_parents[1][0:cut_v] + subset_parents[0][cut_v:]\n",
    "        control = [] \n",
    "        new_son1 = []\n",
    "        ind = 0\n",
    "        for n, value in enumerate(son1):\n",
    "            if value in control:\n",
    "                new_value = -1\n",
    "                for i in range(size_n):\n",
    "                    if i not in new_son1:\n",
    "                        new_value = i\n",
    "                        break\n",
    "                control.append(new_value)\n",
    "                new_son1.append(new_value)\n",
    "            else:\n",
    "                control.append(value)\n",
    "                new_son1.append(value)\n",
    "\n",
    "        control = [] \n",
    "        new_son2 = []\n",
    "        ind = 0\n",
    "        for n, value in enumerate(son2):\n",
    "            if value in control:\n",
    "                new_value = -1\n",
    "                for i in range(size_n):\n",
    "                    if i not in new_son2:\n",
    "                        new_value = i\n",
    "                        break\n",
    "                control.append(new_value)\n",
    "                new_son2.append(new_value)\n",
    "            else:\n",
    "                control.append(value)\n",
    "                new_son2.append(value)\n",
    "\n",
    "    return [new_son1, new_son2]"
   ]
  },
  {
   "cell_type": "markdown",
   "metadata": {},
   "source": [
    "### Mutation\n",
    "Retorna um subset de 2 indivíduos como resultado da mutação dos filhos\n",
    "\n",
    "### Replacement\n",
    "Substitui os dois piores resultados pelas duas novas soluções geradas"
   ]
  },
  {
   "cell_type": "code",
   "execution_count": 80,
   "metadata": {},
   "outputs": [],
   "source": [
    "def mutation(population, mutation_rate):\n",
    "    population_copy = copy.copy(population)\n",
    "    for individual in population_copy:\n",
    "        if float(rd.randint(0, 10))/10 <= mutation_rate:\n",
    "            last_gene = individual.pop(0)\n",
    "            individual.insert(len(individual),last_gene)\n",
    "    return population_copy\n",
    "\n",
    "\n",
    "def replacement(offspring_new, pop):\n",
    "    print(pop)\n",
    "    for i in range(2):\n",
    "        m = -1\n",
    "        score_m = 1000000\n",
    "        for n,p in enumerate(pop):\n",
    "            score = fitness_nq(p)\n",
    "            if score<score_m:\n",
    "                m = n\n",
    "                score_m = score\n",
    "        del pop[m]\n",
    "    print(pop)\n",
    "    for off in offspring_new:\n",
    "        pop.append(off)\n",
    "    \n",
    "    return pop\n"
   ]
  },
  {
   "cell_type": "markdown",
   "metadata": {},
   "source": [
    "# Inicializa Variáveis"
   ]
  },
  {
   "cell_type": "code",
   "execution_count": 91,
   "metadata": {},
   "outputs": [
    {
     "name": "stdout",
     "output_type": "stream",
     "text": [
      "[[2, 3, 0, 1], [0, 2, 1, 3], [2, 3, 1, 0], [3, 2, 0, 1], [0, 3, 2, 1]]\n"
     ]
    }
   ],
   "source": [
    "pop = init_population(5, 4)\n",
    "print(pop)\n",
    "loss = 10000\n",
    "inter = 0\n",
    "cross_over_rate = 1.0\n",
    "mutation_rate = 0.3\n",
    "sol = []"
   ]
  },
  {
   "cell_type": "markdown",
   "metadata": {},
   "source": [
    "### Execução do programa"
   ]
  },
  {
   "cell_type": "code",
   "execution_count": 92,
   "metadata": {},
   "outputs": [
    {
     "name": "stdout",
     "output_type": "stream",
     "text": [
      "\n",
      " Interação 0\n",
      "[[2, 3, 0, 1], [0, 2, 1, 3], [2, 3, 1, 0], [3, 2, 0, 1], [0, 3, 2, 1]]\n",
      "selection in\n",
      "[[2, 3, 0, 1], [0, 3, 2, 1]]\n",
      "crossover in\n",
      "entrou\n",
      "[[2, 3, 0, 1], [0, 3, 1, 2]]\n",
      "mutation in\n",
      "[[2, 3, 0, 1], [3, 1, 2, 0]]\n",
      "replacement in\n",
      "[[2, 3, 0, 1], [0, 2, 1, 3], [2, 3, 1, 0], [3, 2, 0, 1], [0, 3, 2, 1]]\n",
      "[[2, 3, 0, 1], [3, 2, 0, 1], [0, 3, 2, 1]]\n",
      "[[2, 3, 0, 1], [3, 2, 0, 1], [0, 3, 2, 1], [2, 3, 0, 1], [3, 1, 2, 0]]\n",
      "8, 4, 8, 8, 4, \n",
      "\n",
      "Erro : 4\n",
      "Solução: [3, 2, 0, 1]\n",
      "\n",
      " Interação 1\n",
      "[[2, 3, 0, 1], [3, 2, 0, 1], [0, 3, 2, 1], [2, 3, 0, 1], [3, 1, 2, 0]]\n",
      "selection in\n",
      "[[0, 3, 2, 1], [2, 3, 0, 1]]\n",
      "crossover in\n",
      "entrou\n",
      "[[0, 3, 1, 2], [2, 3, 0, 1]]\n",
      "mutation in\n",
      "[[0, 3, 1, 2], [2, 3, 0, 1]]\n",
      "replacement in\n",
      "[[2, 3, 0, 1], [3, 2, 0, 1], [0, 3, 2, 1], [2, 3, 0, 1], [3, 1, 2, 0]]\n",
      "[[2, 3, 0, 1], [0, 3, 2, 1], [2, 3, 0, 1]]\n",
      "[[2, 3, 0, 1], [0, 3, 2, 1], [2, 3, 0, 1], [0, 3, 1, 2], [2, 3, 0, 1]]\n",
      "8, 8, 8, 2, 8, \n",
      "\n",
      "Erro : 2\n",
      "Solução: [0, 3, 1, 2]\n",
      "\n",
      " Interação 2\n",
      "[[2, 3, 0, 1], [0, 3, 2, 1], [2, 3, 0, 1], [0, 3, 1, 2], [2, 3, 0, 1]]\n",
      "selection in\n",
      "[[2, 3, 0, 1], [2, 3, 0, 1]]\n",
      "crossover in\n",
      "entrou\n",
      "[[2, 3, 0, 1], [2, 3, 0, 1]]\n",
      "mutation in\n",
      "[[2, 3, 0, 1], [3, 0, 1, 2]]\n",
      "replacement in\n",
      "[[2, 3, 0, 1], [0, 3, 2, 1], [2, 3, 0, 1], [0, 3, 1, 2], [2, 3, 0, 1]]\n",
      "[[0, 3, 2, 1], [2, 3, 0, 1], [2, 3, 0, 1]]\n",
      "[[0, 3, 2, 1], [2, 3, 0, 1], [2, 3, 0, 1], [2, 3, 0, 1], [3, 0, 1, 2]]\n",
      "8, 8, 8, 8, 8, \n",
      "\n",
      "Erro : 2\n",
      "Solução: [0, 3, 1, 2]\n",
      "\n",
      " Interação 3\n",
      "[[0, 3, 2, 1], [2, 3, 0, 1], [2, 3, 0, 1], [2, 3, 0, 1], [3, 0, 1, 2]]\n",
      "selection in\n",
      "[[2, 3, 0, 1], [3, 0, 1, 2]]\n",
      "crossover in\n",
      "entrou\n",
      "[[2, 3, 1, 0], [3, 0, 1, 2]]\n",
      "mutation in\n",
      "[[3, 1, 0, 2], [3, 0, 1, 2]]\n",
      "replacement in\n",
      "[[0, 3, 2, 1], [2, 3, 0, 1], [2, 3, 0, 1], [2, 3, 0, 1], [3, 0, 1, 2]]\n",
      "[[2, 3, 0, 1], [2, 3, 0, 1], [3, 0, 1, 2]]\n",
      "[[2, 3, 0, 1], [2, 3, 0, 1], [3, 0, 1, 2], [3, 1, 0, 2], [3, 0, 1, 2]]\n",
      "8, 8, 8, 2, 8, \n",
      "\n",
      "Erro : 2\n",
      "Solução: [0, 3, 1, 2]\n"
     ]
    }
   ],
   "source": [
    "\n",
    "while loss > 0 and inter <= 3:\n",
    "    print('\\n Interação {}'.format(inter))\n",
    "    print(pop)\n",
    "    subset_parents = selection(pop, 2)\n",
    "    offspring = crossover(subset_parents, cross_over_rate)\n",
    "    offspring_new = mutation(offspring, mutation_rate)\n",
    "    pop = replacement(offspring_new, pop)\n",
    "    \n",
    "    for p in pop:\n",
    "        v = fitness_nq(p)\n",
    "        if v < loss:\n",
    "            loss = v\n",
    "            sol = copy.copy(p)\n",
    "        print(v, end=', ')\n",
    "    inter += 1\n",
    "    print('\\n\\nErro : {}'.format(loss))\n",
    "    print('Solução: {}'.format(sol))"
   ]
  },
  {
   "cell_type": "code",
   "execution_count": null,
   "metadata": {},
   "outputs": [],
   "source": []
  }
 ],
 "metadata": {
  "kernelspec": {
   "display_name": "Python 3",
   "language": "python",
   "name": "python3"
  },
  "language_info": {
   "codemirror_mode": {
    "name": "ipython",
    "version": 3
   },
   "file_extension": ".py",
   "mimetype": "text/x-python",
   "name": "python",
   "nbconvert_exporter": "python",
   "pygments_lexer": "ipython3",
   "version": "3.6.5"
  }
 },
 "nbformat": 4,
 "nbformat_minor": 5
}
