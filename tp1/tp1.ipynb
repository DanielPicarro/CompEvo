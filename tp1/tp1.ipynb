{
 "cells": [
  {
   "cell_type": "code",
   "execution_count": 1,
   "id": "a1338aee",
   "metadata": {},
   "outputs": [],
   "source": [
    "# Selection: avalia {pop} indivíduos aleatórias e retorna as duas melhores \n",
    "\n",
    "# Crossover: cruza dois indivíduos e gera dois novos\n",
    "#    Particionamento\n",
    "#    Merge\n",
    "#    Retirar repetição\n",
    "   \n",
    "# Mutation: retorna um subset (2 indivíduos) como resultado da mutação dos filhos \n",
    "\n",
    "# Replacement: troca os dois piores "
   ]
  },
  {
   "cell_type": "code",
   "execution_count": 2,
   "id": "4e40e430",
   "metadata": {},
   "outputs": [],
   "source": [
    "import random as rd\n",
    "import numpy as np"
   ]
  },
  {
   "cell_type": "code",
   "execution_count": 3,
   "id": "20114cba",
   "metadata": {},
   "outputs": [
    {
     "name": "stdout",
     "output_type": "stream",
     "text": [
      "[[5, 7, 1, 6, 0, 3, 2, 4], [6, 4, 1, 7, 5, 3, 2, 0], [5, 2, 0, 7, 6, 4, 3, 1], [5, 0, 3, 1, 6, 7, 4, 2], [1, 0, 3, 2, 5, 7, 4, 6], [2, 7, 5, 1, 4, 3, 0, 6], [0, 6, 4, 7, 3, 5, 2, 1], [1, 2, 3, 4, 0, 6, 7, 5], [1, 0, 4, 7, 6, 5, 3, 2], [1, 6, 4, 3, 0, 2, 7, 5], [5, 6, 1, 2, 7, 3, 0, 4], [6, 5, 1, 2, 0, 3, 4, 7], [0, 6, 1, 3, 5, 4, 2, 7], [1, 2, 7, 6, 3, 0, 4, 5], [7, 3, 4, 6, 5, 0, 1, 2], [2, 3, 1, 4, 5, 0, 6, 7], [7, 2, 3, 4, 0, 6, 5, 1], [1, 7, 5, 6, 0, 4, 3, 2], [5, 7, 4, 6, 3, 1, 0, 2], [0, 3, 1, 4, 6, 2, 7, 5]]\n"
     ]
    }
   ],
   "source": [
    "def init_population(_mu:int = 20, n:int = 8):\n",
    "    population = []\n",
    "    for i in range (_mu):\n",
    "        population.append(rd.sample(range(n), n))\n",
    "    return population\n",
    "\n",
    "def fitness_nq(solution):\n",
    "    xeques = 0\n",
    "    for i in range(0,len(solution)):\n",
    "        for j in range(0,len(solution)):\n",
    "            if i!=j:\n",
    "                if i-solution[i] == j-solution[j] or i+solution[i] == j+solution[j]:\n",
    "                    xeques+=1\n",
    "    return xeques\n",
    "\n",
    "pop = init_population(20, 8)\n",
    "print(pop)"
   ]
  },
  {
   "cell_type": "code",
   "execution_count": 4,
   "id": "f23f8bb9",
   "metadata": {},
   "outputs": [],
   "source": [
    "# melhora: tirar o sorted\n",
    "def selection(population, cut):\n",
    "    scores = []\n",
    "    for individual in population:\n",
    "        fitness_score = fitness_nq(individual)\n",
    "        scores.append((fitness_score, individual))\n",
    "    sorted_scores = sorted(scores, key=lambda tup: tup[0])\n",
    "    best_ones = sorted_scores[-cut:] \n",
    "    return list(map(lambda x: x[1], best_ones))"
   ]
  },
  {
   "cell_type": "code",
   "execution_count": 5,
   "id": "bedd0d26",
   "metadata": {},
   "outputs": [],
   "source": [
    "a = selection(pop, 2)"
   ]
  },
  {
   "cell_type": "code",
   "execution_count": 6,
   "id": "1f745244",
   "metadata": {},
   "outputs": [
    {
     "data": {
      "text/plain": [
       "[[7, 2, 3, 4, 0, 6, 5, 1], [1, 2, 3, 4, 0, 6, 7, 5]]"
      ]
     },
     "execution_count": 6,
     "metadata": {},
     "output_type": "execute_result"
    }
   ],
   "source": [
    "a"
   ]
  },
  {
   "cell_type": "code",
   "execution_count": 7,
   "id": "2776e3f4",
   "metadata": {},
   "outputs": [],
   "source": [
    "# recebe pop. inteira, escolhe proporção aleatória, muta\n",
    "#  mutação: mudar duas posições do indivíduo escolhido aleatóriamente \n",
    "def mutation(population, mutation_rate):\n",
    "    for individual in population_copy:\n",
    "        if 10*rd.randint(0, 10) <= mutation_rate:\n",
    "            last_gene = individual.pop(0)\n",
    "            individual.insert(len(individual),last_gene)\n",
    "    return population"
   ]
  },
  {
   "cell_type": "code",
   "execution_count": 8,
   "id": "5ea2a5d6",
   "metadata": {},
   "outputs": [
    {
     "data": {
      "text/plain": [
       "[[7, 1, 6, 0, 3, 2, 4, 5],\n",
       " [4, 1, 7, 5, 3, 2, 0, 6],\n",
       " [2, 0, 7, 6, 4, 3, 1, 5],\n",
       " [0, 3, 1, 6, 7, 4, 2, 5],\n",
       " [0, 3, 2, 5, 7, 4, 6, 1],\n",
       " [7, 5, 1, 4, 3, 0, 6, 2],\n",
       " [6, 4, 7, 3, 5, 2, 1, 0],\n",
       " [2, 3, 4, 0, 6, 7, 5, 1],\n",
       " [0, 4, 7, 6, 5, 3, 2, 1],\n",
       " [6, 4, 3, 0, 2, 7, 5, 1],\n",
       " [6, 1, 2, 7, 3, 0, 4, 5],\n",
       " [5, 1, 2, 0, 3, 4, 7, 6],\n",
       " [6, 1, 3, 5, 4, 2, 7, 0],\n",
       " [2, 7, 6, 3, 0, 4, 5, 1],\n",
       " [3, 4, 6, 5, 0, 1, 2, 7],\n",
       " [3, 1, 4, 5, 0, 6, 7, 2],\n",
       " [2, 3, 4, 0, 6, 5, 1, 7],\n",
       " [7, 5, 6, 0, 4, 3, 2, 1],\n",
       " [7, 4, 6, 3, 1, 0, 2, 5],\n",
       " [3, 1, 4, 6, 2, 7, 5, 0]]"
      ]
     },
     "execution_count": 8,
     "metadata": {},
     "output_type": "execute_result"
    }
   ],
   "source": [
    "mutated_population = mutation(pop, 100)\n",
    "mutated_population"
   ]
  },
  {
   "cell_type": "code",
   "execution_count": null,
   "id": "c7059fb5",
   "metadata": {},
   "outputs": [],
   "source": []
  }
 ],
 "metadata": {
  "kernelspec": {
   "display_name": "Python 3",
   "language": "python",
   "name": "python3"
  },
  "language_info": {
   "codemirror_mode": {
    "name": "ipython",
    "version": 3
   },
   "file_extension": ".py",
   "mimetype": "text/x-python",
   "name": "python",
   "nbconvert_exporter": "python",
   "pygments_lexer": "ipython3",
   "version": "3.8.5"
  }
 },
 "nbformat": 4,
 "nbformat_minor": 5
}
