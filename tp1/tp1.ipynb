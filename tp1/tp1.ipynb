{
 "cells": [
  {
   "cell_type": "code",
   "execution_count": 1,
   "metadata": {},
   "outputs": [],
   "source": [
    "# Selection: avalia {pop} indivíduos aleatórias e retorna as duas melhores \n",
    "\n",
    "# Crossover: cruza dois indivíduos e gera dois novos\n",
    "#    Particionamento\n",
    "#    Merge\n",
    "#    Retirar repetição\n",
    "   \n",
    "# Mutation: retorna um subset (2 indivíduos) como resultado da mutação dos filhos \n",
    "\n",
    "# Replacement: troca os dois piores "
   ]
  },
  {
   "cell_type": "code",
   "execution_count": 110,
   "metadata": {},
   "outputs": [
    {
     "name": "stderr",
     "output_type": "stream",
     "text": [
      "ERROR:root:Internal Python error in the inspect module.\n",
      "Below is the traceback from this internal error.\n",
      "\n"
     ]
    },
    {
     "name": "stdout",
     "output_type": "stream",
     "text": [
      "Traceback (most recent call last):\n",
      "  File \"/home/jesimon/anaconda3/lib/python3.6/site-packages/IPython/core/interactiveshell.py\", line 2963, in run_code\n",
      "    exec(code_obj, self.user_global_ns, self.user_ns)\n",
      "  File \"<ipython-input-110-5ba284e0ae43>\", line 5, in <module>\n",
      "    import matplotlib.pyplot as plt\n",
      "  File \"/home/jesimon/anaconda3/lib/python3.6/site-packages/matplotlib/__init__.py\", line 1163, in <module>\n",
      "    rcParams = rc_params()\n",
      "  File \"/home/jesimon/anaconda3/lib/python3.6/site-packages/matplotlib/__init__.py\", line 997, in rc_params\n",
      "    fname = matplotlib_fname()\n",
      "  File \"/home/jesimon/anaconda3/lib/python3.6/site-packages/matplotlib/__init__.py\", line 841, in matplotlib_fname\n",
      "    for fname in gen_candidates():\n",
      "  File \"/home/jesimon/anaconda3/lib/python3.6/site-packages/matplotlib/__init__.py\", line 830, in gen_candidates\n",
      "    yield os.path.join(six.moves.getcwd(), 'matplotlibrc')\n",
      "FileNotFoundError: [Errno 2] No such file or directory\n",
      "\n",
      "During handling of the above exception, another exception occurred:\n",
      "\n",
      "Traceback (most recent call last):\n",
      "  File \"/home/jesimon/anaconda3/lib/python3.6/site-packages/IPython/core/interactiveshell.py\", line 1863, in showtraceback\n",
      "    stb = value._render_traceback_()\n",
      "AttributeError: 'FileNotFoundError' object has no attribute '_render_traceback_'\n",
      "\n",
      "During handling of the above exception, another exception occurred:\n",
      "\n",
      "Traceback (most recent call last):\n",
      "  File \"/home/jesimon/anaconda3/lib/python3.6/site-packages/IPython/core/ultratb.py\", line 1095, in get_records\n",
      "    return _fixed_getinnerframes(etb, number_of_lines_of_context, tb_offset)\n",
      "  File \"/home/jesimon/anaconda3/lib/python3.6/site-packages/IPython/core/ultratb.py\", line 311, in wrapped\n",
      "    return f(*args, **kwargs)\n",
      "  File \"/home/jesimon/anaconda3/lib/python3.6/site-packages/IPython/core/ultratb.py\", line 345, in _fixed_getinnerframes\n",
      "    records = fix_frame_records_filenames(inspect.getinnerframes(etb, context))\n",
      "  File \"/home/jesimon/anaconda3/lib/python3.6/inspect.py\", line 1483, in getinnerframes\n",
      "    frameinfo = (tb.tb_frame,) + getframeinfo(tb, context)\n",
      "  File \"/home/jesimon/anaconda3/lib/python3.6/inspect.py\", line 1441, in getframeinfo\n",
      "    filename = getsourcefile(frame) or getfile(frame)\n",
      "  File \"/home/jesimon/anaconda3/lib/python3.6/inspect.py\", line 696, in getsourcefile\n",
      "    if getattr(getmodule(object, filename), '__loader__', None) is not None:\n",
      "  File \"/home/jesimon/anaconda3/lib/python3.6/inspect.py\", line 725, in getmodule\n",
      "    file = getabsfile(object, _filename)\n",
      "  File \"/home/jesimon/anaconda3/lib/python3.6/inspect.py\", line 709, in getabsfile\n",
      "    return os.path.normcase(os.path.abspath(_filename))\n",
      "  File \"/home/jesimon/anaconda3/lib/python3.6/posixpath.py\", line 376, in abspath\n",
      "    cwd = os.getcwd()\n",
      "FileNotFoundError: [Errno 2] No such file or directory\n"
     ]
    },
    {
     "ename": "FileNotFoundError",
     "evalue": "[Errno 2] No such file or directory",
     "output_type": "error",
     "traceback": [
      "\u001b[0;31m---------------------------------------------------------------------------\u001b[0m"
     ]
    }
   ],
   "source": [
    "import random as rd\n",
    "import numpy as np\n",
    "import random\n",
    "import copy\n",
    "import matplotlib.pyplot as plt"
   ]
  },
  {
   "cell_type": "markdown",
   "metadata": {},
   "source": [
    "# Problema\n",
    "Resolver o problema de posicionar n rainhas no tabuleiro de Xadrez, sem que as rainhas se coloquem em cheque.\n",
    "\n",
    "# Funções Implementadas\n",
    "\n",
    "### init_population \n",
    "Gera uma população inicial utilizando a representação genotípica. O tabuleiro (matriz nxn) é representado de tal maneira que cada posição do vetor representa uma linha e a coluna é representada pelo valor no vetor.\n",
    "\n",
    "### fitness_nq\n",
    "Calcula o número de cheques que acontecem de acordo com as posições das rainhas."
   ]
  },
  {
   "cell_type": "code",
   "execution_count": 98,
   "metadata": {},
   "outputs": [],
   "source": [
    "def init_population(_mu:int = 20, n:int = 8):\n",
    "    population = []\n",
    "    for i in range (_mu):\n",
    "        population.append(rd.sample(range(n), n))\n",
    "    return population\n",
    "\n",
    "def fitness_nq(solution):\n",
    "    xeques = 0\n",
    "    for i in range(0,len(solution)):\n",
    "        for j in range(0,len(solution)):\n",
    "            if i!=j:\n",
    "                if i-solution[i] == j-solution[j] or i+solution[i] == j+solution[j]:\n",
    "                    xeques+=1\n",
    "    return xeques"
   ]
  },
  {
   "cell_type": "markdown",
   "metadata": {},
   "source": [
    "### Selection\n",
    "Seleciona um subconjunto das duas melhores soluções presentes na população."
   ]
  },
  {
   "cell_type": "code",
   "execution_count": 99,
   "metadata": {},
   "outputs": [],
   "source": [
    "# hipótese sobre erro:\n",
    "#  Selecionar sempre os dois melhores e cruzá-los não está fazendo com que os genes mais adaptados se espalhem?\n",
    "\n",
    "def selection(population, cut):\n",
    "    scores = []\n",
    "    # escolhendo 5 indivíduos aleatórios     \n",
    "    for individual in random.choices(population, k=5):\n",
    "        fitness_score = fitness_nq(individual)\n",
    "        scores.append((fitness_score, individual))\n",
    "    sorted_scores = sorted(scores, key=lambda tup: tup[0])\n",
    "    best_ones = sorted_scores[:cut] \n",
    "    return list(map(lambda x: x[1], best_ones))\n"
   ]
  },
  {
   "cell_type": "markdown",
   "metadata": {},
   "source": [
    "### Crossover\n",
    "Faz a junção das duas melhores soluções de maneira aleatoria. Isso é feito selecionando uma posição aleatoria, separa as duas soluções nessa posição e uni o inicio de uma solução ao fim de outra."
   ]
  },
  {
   "cell_type": "code",
   "execution_count": 100,
   "metadata": {},
   "outputs": [],
   "source": [
    "def conserta_repeticoes(individual):\n",
    "    pass\n",
    "\n",
    "def crossover(subset_parents, cross_over_rate):\n",
    "    if float(rd.randint(0, 10))/10 <= cross_over_rate:\n",
    "        size_n = len(subset_parents[0])\n",
    "        cut_v = random.randint(1, size_n-1)\n",
    "        son1 = subset_parents[0][0:cut_v] + subset_parents[1][cut_v:]\n",
    "        son2 = subset_parents[1][0:cut_v] + subset_parents[0][cut_v:]\n",
    "        control = [] \n",
    "        new_son1 = []\n",
    "        ind = 0\n",
    "        for n, value in enumerate(son1):\n",
    "            if value in control:\n",
    "                new_value = -1\n",
    "                for i in range(size_n):\n",
    "                    if i not in new_son1:\n",
    "                        new_value = i\n",
    "                        break\n",
    "                control.append(new_value)\n",
    "                new_son1.append(new_value)\n",
    "            else:\n",
    "                control.append(value)\n",
    "                new_son1.append(value)\n",
    "\n",
    "        control = [] \n",
    "        new_son2 = []\n",
    "        ind = 0\n",
    "        for n, value in enumerate(son2):\n",
    "            if value in control:\n",
    "                new_value = -1\n",
    "                for i in range(size_n):\n",
    "                    if i not in new_son2:\n",
    "                        new_value = i\n",
    "                        break\n",
    "                control.append(new_value)\n",
    "                new_son2.append(new_value)\n",
    "            else:\n",
    "                control.append(value)\n",
    "                new_son2.append(value)\n",
    "\n",
    "    return [new_son1, new_son2]"
   ]
  },
  {
   "cell_type": "markdown",
   "metadata": {},
   "source": [
    "### Mutation\n",
    "Muta a população respeitando a taxa de mutação\n",
    "\n",
    "### Replacement\n",
    "Substitui os dois piores resultados pelas duas novas soluções geradas"
   ]
  },
  {
   "cell_type": "code",
   "execution_count": 101,
   "metadata": {},
   "outputs": [],
   "source": [
    "def mutation(population, mutation_rate):\n",
    "    population_copy = copy.copy(population)\n",
    "    for individual in population_copy:\n",
    "        if float(rd.randint(0, 10))*10 <= mutation_rate:\n",
    "            print(\"FOI MUTADO!\")\n",
    "            last_gene = individual.pop(0)\n",
    "            individual.insert(len(individual),last_gene)\n",
    "    return population_copy\n",
    "\n",
    "\n",
    "def replacement(offspring_new, pop):\n",
    "    for i in range(2):\n",
    "        m = -1\n",
    "        score_m = 0\n",
    "        for n,p in enumerate(pop):\n",
    "            score = fitness_nq(p)\n",
    "            # mudei de '<' para '>' de forma que fossem tirados os com maior fitness (no. de xeques)          \n",
    "            if score > score_m:\n",
    "                m = n\n",
    "                score_m = score\n",
    "        del pop[m]\n",
    "        \n",
    "    for off in offspring_new:\n",
    "        pop.append(off)\n",
    "    \n",
    "    return pop\n"
   ]
  },
  {
   "cell_type": "markdown",
   "metadata": {},
   "source": [
    "# Inicializa Variáveis"
   ]
  },
  {
   "cell_type": "code",
   "execution_count": 102,
   "metadata": {},
   "outputs": [],
   "source": [
    "pop = init_population(20, 8)\n",
    "cross_over_rate = 1.0\n",
    "mutation_rate = 80\n",
    "sol = []"
   ]
  },
  {
   "cell_type": "markdown",
   "metadata": {},
   "source": [
    "# Execução do programa"
   ]
  },
  {
   "cell_type": "code",
   "execution_count": 104,
   "metadata": {},
   "outputs": [
    {
     "name": "stdout",
     "output_type": "stream",
     "text": [
      "FOI MUTADO!\n",
      "FOI MUTADO!\n",
      "Fitness média da geração 0: 9.1\n",
      "\n",
      "FOI MUTADO!\n",
      "FOI MUTADO!\n",
      "Fitness média da geração 1: 8.2\n",
      "\n",
      "FOI MUTADO!\n",
      "FOI MUTADO!\n",
      "Fitness média da geração 2: 8.0\n",
      "\n",
      "FOI MUTADO!\n",
      "FOI MUTADO!\n",
      "Fitness média da geração 3: 7.5\n",
      "\n",
      "FOI MUTADO!\n",
      "FOI MUTADO!\n",
      "Fitness média da geração 4: 7.4\n",
      "\n",
      "FOI MUTADO!\n",
      "FOI MUTADO!\n",
      "Fitness média da geração 5: 6.7\n",
      "\n",
      "FOI MUTADO!\n",
      "FOI MUTADO!\n",
      "Fitness média da geração 6: 6.8\n",
      "\n",
      "FOI MUTADO!\n",
      "FOI MUTADO!\n",
      "Fitness média da geração 7: 6.2\n",
      "\n",
      "FOI MUTADO!\n",
      "FOI MUTADO!\n",
      "Fitness média da geração 8: 6.3\n",
      "\n",
      "FOI MUTADO!\n",
      "FOI MUTADO!\n",
      "Fitness média da geração 9: 5.7\n",
      "\n",
      "FOI MUTADO!\n",
      "FOI MUTADO!\n",
      "Fitness média da geração 10: 5.6\n",
      "\n",
      "FOI MUTADO!\n",
      "FOI MUTADO!\n",
      "Fitness média da geração 11: 6.1\n",
      "\n",
      "FOI MUTADO!\n",
      "Fitness média da geração 12: 5.4\n",
      "\n",
      "FOI MUTADO!\n",
      "Fitness média da geração 13: 5.4\n",
      "\n",
      "FOI MUTADO!\n",
      "Fitness média da geração 14: 5.5\n",
      "\n",
      "FOI MUTADO!\n",
      "FOI MUTADO!\n",
      "Fitness média da geração 15: 5.3\n",
      "\n",
      "FOI MUTADO!\n",
      "Fitness média da geração 16: 5.0\n",
      "\n",
      "FOI MUTADO!\n",
      "FOI MUTADO!\n",
      "Fitness média da geração 17: 5.4\n",
      "\n",
      "FOI MUTADO!\n",
      "FOI MUTADO!\n",
      "Fitness média da geração 18: 4.9\n",
      "\n",
      "FOI MUTADO!\n",
      "Fitness média da geração 19: 4.8\n",
      "\n",
      "FOI MUTADO!\n",
      "Fitness média da geração 20: 4.7\n",
      "\n",
      "FOI MUTADO!\n",
      "FOI MUTADO!\n",
      "Fitness média da geração 21: 4.7\n",
      "\n",
      "FOI MUTADO!\n",
      "Fitness média da geração 22: 4.4\n",
      "\n",
      "Solução: [4, 2, 7, 3, 6, 0, 5, 1]\n",
      "Valor da Solução: 0\n"
     ]
    }
   ],
   "source": [
    "n_iter = 0\n",
    "\n",
    "fitness_avg = []\n",
    "best_of_generation = []\n",
    "smallest_fitness = 1\n",
    "\n",
    "while n_iter < 100 and smallest_fitness > 0:\n",
    "    subset_parents = selection(pop, 2)\n",
    "    offspring = crossover(subset_parents, cross_over_rate)\n",
    "    offspring_new = mutation(offspring, mutation_rate)\n",
    "    pop = replacement(offspring_new, pop)\n",
    "    \n",
    "    fitness_scores = []\n",
    "    smallest_fitness = fitness_nq(pop[0])\n",
    "    \n",
    "    for p in pop:\n",
    "        v = fitness_nq(p)\n",
    "        fitness_scores.append(v)\n",
    "        if v < smallest_fitness:\n",
    "            smallest_fitness = v\n",
    "            sol = copy.copy(p)\n",
    "            \n",
    "    best_of_generation.append(smallest_fitness)\n",
    "            \n",
    "    current_fitness_avg = sum(fitness_scores)/len(fitness_scores)\n",
    "    fitness_avg.append(current_fitness_avg)\n",
    "    print (f\"Fitness média da geração {n_iter}: {current_fitness_avg}\\n\")    \n",
    "    n_iter += 1\n",
    "\n",
    "print(f\"Solução: {sol}\")\n",
    "print(f\"Valor da Solução: {smallest_fitness}\")"
   ]
  },
  {
   "cell_type": "code",
   "execution_count": 105,
   "metadata": {},
   "outputs": [
    {
     "data": {
      "text/plain": [
       "23"
      ]
     },
     "execution_count": 105,
     "metadata": {},
     "output_type": "execute_result"
    }
   ],
   "source": [
    "len(best_of_generation)"
   ]
  },
  {
   "cell_type": "code",
   "execution_count": 106,
   "metadata": {},
   "outputs": [
    {
     "name": "stderr",
     "output_type": "stream",
     "text": [
      "ERROR:root:Internal Python error in the inspect module.\n",
      "Below is the traceback from this internal error.\n",
      "\n"
     ]
    },
    {
     "name": "stdout",
     "output_type": "stream",
     "text": [
      "Traceback (most recent call last):\n",
      "  File \"/home/jesimon/anaconda3/lib/python3.6/site-packages/IPython/core/interactiveshell.py\", line 2963, in run_code\n",
      "    exec(code_obj, self.user_global_ns, self.user_ns)\n",
      "  File \"<ipython-input-106-481378e99a72>\", line 3, in <module>\n",
      "    plt.plot(X, fitness_avg, color='r', label='Fitness Average')\n",
      "NameError: name 'plt' is not defined\n",
      "\n",
      "During handling of the above exception, another exception occurred:\n",
      "\n",
      "Traceback (most recent call last):\n",
      "  File \"/home/jesimon/anaconda3/lib/python3.6/site-packages/IPython/core/interactiveshell.py\", line 1863, in showtraceback\n",
      "    stb = value._render_traceback_()\n",
      "AttributeError: 'NameError' object has no attribute '_render_traceback_'\n",
      "\n",
      "During handling of the above exception, another exception occurred:\n",
      "\n",
      "Traceback (most recent call last):\n",
      "  File \"/home/jesimon/anaconda3/lib/python3.6/site-packages/IPython/core/ultratb.py\", line 1095, in get_records\n",
      "    return _fixed_getinnerframes(etb, number_of_lines_of_context, tb_offset)\n",
      "  File \"/home/jesimon/anaconda3/lib/python3.6/site-packages/IPython/core/ultratb.py\", line 311, in wrapped\n",
      "    return f(*args, **kwargs)\n",
      "  File \"/home/jesimon/anaconda3/lib/python3.6/site-packages/IPython/core/ultratb.py\", line 345, in _fixed_getinnerframes\n",
      "    records = fix_frame_records_filenames(inspect.getinnerframes(etb, context))\n",
      "  File \"/home/jesimon/anaconda3/lib/python3.6/inspect.py\", line 1483, in getinnerframes\n",
      "    frameinfo = (tb.tb_frame,) + getframeinfo(tb, context)\n",
      "  File \"/home/jesimon/anaconda3/lib/python3.6/inspect.py\", line 1441, in getframeinfo\n",
      "    filename = getsourcefile(frame) or getfile(frame)\n",
      "  File \"/home/jesimon/anaconda3/lib/python3.6/inspect.py\", line 696, in getsourcefile\n",
      "    if getattr(getmodule(object, filename), '__loader__', None) is not None:\n",
      "  File \"/home/jesimon/anaconda3/lib/python3.6/inspect.py\", line 725, in getmodule\n",
      "    file = getabsfile(object, _filename)\n",
      "  File \"/home/jesimon/anaconda3/lib/python3.6/inspect.py\", line 709, in getabsfile\n",
      "    return os.path.normcase(os.path.abspath(_filename))\n",
      "  File \"/home/jesimon/anaconda3/lib/python3.6/posixpath.py\", line 376, in abspath\n",
      "    cwd = os.getcwd()\n",
      "FileNotFoundError: [Errno 2] No such file or directory\n"
     ]
    },
    {
     "ename": "NameError",
     "evalue": "name 'plt' is not defined",
     "output_type": "error",
     "traceback": [
      "\u001b[0;31m---------------------------------------------------------------------------\u001b[0m"
     ]
    }
   ],
   "source": [
    "# Plotting both the curves simultaneously\n",
    "X = range(n_iter)\n",
    "plt.plot(X, fitness_avg, color='r', label='Fitness Average')\n",
    "plt.plot(X, best_of_generation, color='g', label='Best of each gen.')\n",
    "  \n",
    "# Naming the x-axis, y-axis and the whole graph\n",
    "plt.xlabel(\"Generation\")\n",
    "plt.ylabel(\"Fitness\")\n",
    "plt.title(\"Evolution\")\n",
    "  \n",
    "# Adding legend, which helps us recognize the curve according to it's color\n",
    "plt.legend()\n",
    "  \n",
    "# To load the display window\n",
    "plt.show()"
   ]
  },
  {
   "cell_type": "code",
   "execution_count": null,
   "metadata": {},
   "outputs": [],
   "source": []
  },
  {
   "cell_type": "code",
   "execution_count": null,
   "metadata": {},
   "outputs": [],
   "source": []
  }
 ],
 "metadata": {
  "kernelspec": {
   "display_name": "Python 3",
   "language": "python",
   "name": "python3"
  },
  "language_info": {
   "codemirror_mode": {
    "name": "ipython",
    "version": 3
   },
   "file_extension": ".py",
   "mimetype": "text/x-python",
   "name": "python",
   "nbconvert_exporter": "python",
   "pygments_lexer": "ipython3",
   "version": "3.6.5"
  }
 },
 "nbformat": 4,
 "nbformat_minor": 5
}
