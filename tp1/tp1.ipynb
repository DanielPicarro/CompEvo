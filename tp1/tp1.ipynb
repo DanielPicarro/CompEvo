{
 "cells": [
  {
   "cell_type": "markdown",
   "id": "d9b0ecc7",
   "metadata": {},
   "source": [
    "# TC1 - Computação Evolucionária | 2021/1 - Escola de Engenharia da UFMG\n",
    "## Alunos: \n",
    "## - Jesimon Barreto\n",
    "## - Daniel Piçarro"
   ]
  },
  {
   "cell_type": "code",
   "execution_count": 1,
   "id": "d32440fb",
   "metadata": {},
   "outputs": [],
   "source": [
    "# Selection: avalia {pop} indivíduos aleatórias e retorna as duas melhores \n",
    "\n",
    "# Crossover: cruza dois indivíduos e gera dois novos\n",
    "#    Particionamento\n",
    "#    Merge\n",
    "#    Retirar repetição\n",
    "   \n",
    "# Mutation: retorna um subset (2 indivíduos) como resultado da mutação dos filhos \n",
    "\n",
    "# Replacement: troca os dois piores "
   ]
  },
  {
   "cell_type": "code",
   "execution_count": 2,
   "id": "e9ba03bf",
   "metadata": {},
   "outputs": [],
   "source": [
    "import random as rd\n",
    "import numpy as np\n",
    "import random\n",
    "import copy\n",
    "import matplotlib\n",
    "import matplotlib.pyplot as plt"
   ]
  },
  {
   "cell_type": "markdown",
   "id": "3478af1c",
   "metadata": {},
   "source": [
    "# Problema\n",
    "Resolver o problema de posicionar n rainhas no tabuleiro de Xadrez, sem que as rainhas se coloquem em cheque.\n",
    "\n",
    "# Funções Implementadas\n",
    "\n",
    "### init_population \n",
    "Gera uma população inicial utilizando a representação genotípica. O tabuleiro (matriz nxn) é representado de tal maneira que cada posição do vetor representa uma linha e a coluna é representada pelo valor no vetor.\n",
    "\n",
    "### fitness_nq\n",
    "Calcula o número de cheques que acontecem de acordo com as posições das rainhas."
   ]
  },
  {
   "cell_type": "code",
   "execution_count": 3,
   "id": "dbf5f04c",
   "metadata": {},
   "outputs": [],
   "source": [
    "def init_population(_mu:int = 20, n:int = 8):\n",
    "    population = []\n",
    "    for i in range (_mu):\n",
    "        population.append(rd.sample(range(n), n))\n",
    "    return population\n",
    "\n",
    "def fitness_nq(solution):\n",
    "    xeques = 0\n",
    "    for i in range(0,len(solution)):\n",
    "        for j in range(0,len(solution)):\n",
    "            if i!=j:\n",
    "                if i-solution[i] == j-solution[j] or i+solution[i] == j+solution[j]:\n",
    "                    xeques+=1\n",
    "    return xeques"
   ]
  },
  {
   "cell_type": "markdown",
   "id": "58e0bc7e",
   "metadata": {},
   "source": [
    "### Selection\n",
    "Seleciona um subconjunto das duas melhores soluções presentes na população."
   ]
  },
  {
   "cell_type": "code",
   "execution_count": 4,
   "id": "d39ecab1",
   "metadata": {},
   "outputs": [],
   "source": [
    "# hipótese sobre erro:\n",
    "#  Selecionar sempre os dois melhores e cruzá-los não está fazendo com que os genes mais adaptados se espalhem?\n",
    "\n",
    "def selection(population, cut):\n",
    "    scores = []\n",
    "    # escolhendo 5 indivíduos aleatórios     \n",
    "    for individual in random.choices(population, k=5):\n",
    "        fitness_score = fitness_nq(individual)\n",
    "        scores.append((fitness_score, individual))\n",
    "    sorted_scores = sorted(scores, key=lambda tup: tup[0])\n",
    "    best_ones = sorted_scores[:cut] \n",
    "    return list(map(lambda x: x[1], best_ones))\n"
   ]
  },
  {
   "cell_type": "markdown",
   "id": "0609b875",
   "metadata": {},
   "source": [
    "### Crossover\n",
    "Faz a junção das duas melhores soluções de maneira aleatória. Isso é feito selecionando uma posição aleatória, separa as duas soluções nessa posição e une o início de uma solução ao fim de outra."
   ]
  },
  {
   "cell_type": "code",
   "execution_count": 5,
   "id": "febe1070",
   "metadata": {},
   "outputs": [],
   "source": [
    "def conserta_repeticoes(individual):\n",
    "    pass\n",
    "\n",
    "def crossover(subset_parents, cross_over_rate):\n",
    "    if float(rd.randint(0, 10))/10 <= cross_over_rate:\n",
    "        size_n = len(subset_parents[0])\n",
    "        cut_v = random.randint(1, size_n-1)\n",
    "        son1 = subset_parents[0][0:cut_v] + subset_parents[1][cut_v:]\n",
    "        son2 = subset_parents[1][0:cut_v] + subset_parents[0][cut_v:]\n",
    "        control = [] \n",
    "        new_son1 = []\n",
    "        ind = 0\n",
    "        for n, value in enumerate(son1):\n",
    "            if value in control:\n",
    "                new_value = -1\n",
    "                for i in range(size_n):\n",
    "                    if i not in new_son1:\n",
    "                        new_value = i\n",
    "                        break\n",
    "                control.append(new_value)\n",
    "                new_son1.append(new_value)\n",
    "            else:\n",
    "                control.append(value)\n",
    "                new_son1.append(value)\n",
    "\n",
    "        control = [] \n",
    "        new_son2 = []\n",
    "        ind = 0\n",
    "        for n, value in enumerate(son2):\n",
    "            if value in control:\n",
    "                new_value = -1\n",
    "                for i in range(size_n):\n",
    "                    if i not in new_son2:\n",
    "                        new_value = i\n",
    "                        break\n",
    "                control.append(new_value)\n",
    "                new_son2.append(new_value)\n",
    "            else:\n",
    "                control.append(value)\n",
    "                new_son2.append(value)\n",
    "\n",
    "    return [new_son1, new_son2]"
   ]
  },
  {
   "cell_type": "markdown",
   "id": "becc9c89",
   "metadata": {},
   "source": [
    "### Mutation\n",
    "Muta a população respeitando a taxa de mutação\n",
    "\n",
    "### Replacement\n",
    "Substitui os dois piores resultados pelas duas novas soluções geradas"
   ]
  },
  {
   "cell_type": "code",
   "execution_count": 6,
   "id": "8dc4b4a9",
   "metadata": {},
   "outputs": [],
   "source": [
    "def mutation(population, mutation_rate):\n",
    "    population_copy = copy.copy(population)\n",
    "    for individual in population_copy:\n",
    "        if float(rd.randint(0, 10))*10 <= mutation_rate:\n",
    "            last_gene = individual.pop(0)\n",
    "            individual.insert(len(individual),last_gene)\n",
    "    return population_copy\n",
    "\n",
    "\n",
    "def replacement(offspring_new, pop):\n",
    "    for i in range(2):\n",
    "        m = -1\n",
    "        score_m = 0\n",
    "        for n,p in enumerate(pop):\n",
    "            score = fitness_nq(p)\n",
    "            # mudei de '<' para '>' de forma que fossem tirados os com maior fitness (no. de xeques)          \n",
    "            if score > score_m:\n",
    "                m = n\n",
    "                score_m = score\n",
    "        del pop[m]\n",
    "        \n",
    "    for off in offspring_new:\n",
    "        pop.append(off)\n",
    "    \n",
    "    return pop\n"
   ]
  },
  {
   "cell_type": "markdown",
   "id": "70c1613d",
   "metadata": {},
   "source": [
    "# Inicialização das variáveis\n",
    "População de 50 tabuleiros de 20x20\n",
    "\n",
    "Taxa de cruzamento = 100%\n",
    "\n",
    "Taxa de mutação = 5%"
   ]
  },
  {
   "cell_type": "code",
   "execution_count": 7,
   "id": "330a43b4",
   "metadata": {},
   "outputs": [],
   "source": [
    "pop = init_population(150, 20)\n",
    "cross_over_rate = 1.0\n",
    "mutation_rate = 20\n",
    "sol = []"
   ]
  },
  {
   "cell_type": "markdown",
   "id": "a99dc510",
   "metadata": {},
   "source": [
    "# Execução do programa"
   ]
  },
  {
   "cell_type": "code",
   "execution_count": null,
   "id": "8488131e",
   "metadata": {},
   "outputs": [],
   "source": [
    "%%time\n",
    "\n",
    "n_iter = 0\n",
    "\n",
    "fitness_avg = []\n",
    "best_of_generation = []\n",
    "smallest_fitness = 1\n",
    "\n",
    "while n_iter < 1500 and smallest_fitness > 0:\n",
    "    subset_parents = selection(pop, 2)\n",
    "    offspring = crossover(subset_parents, cross_over_rate)\n",
    "    offspring_new = mutation(offspring, mutation_rate)\n",
    "    pop = replacement(offspring_new, pop)\n",
    "    \n",
    "    fitness_scores = []\n",
    "    smallest_fitness = fitness_nq(pop[0])\n",
    "    \n",
    "    for p in pop:\n",
    "        v = fitness_nq(p)\n",
    "        fitness_scores.append(v)\n",
    "        if v < smallest_fitness:\n",
    "            smallest_fitness = v\n",
    "            sol = copy.copy(p)\n",
    "            \n",
    "    best_of_generation.append(smallest_fitness)\n",
    "            \n",
    "    current_fitness_avg = sum(fitness_scores)/len(fitness_scores)\n",
    "    fitness_avg.append(current_fitness_avg)\n",
    "#     print (f\"Fitness média da geração {n_iter}: {current_fitness_avg}\\n\")    \n",
    "    n_iter += 1\n",
    "\n",
    "print(f\"Melhor solução encontrada: {sol}\")\n",
    "print(f\"Fitness da melhor solução encontrada: {smallest_fitness}\")"
   ]
  },
  {
   "cell_type": "code",
   "execution_count": null,
   "id": "adf1c58e",
   "metadata": {},
   "outputs": [],
   "source": [
    "len(best_of_generation)"
   ]
  },
  {
   "cell_type": "code",
   "execution_count": null,
   "id": "20e6d8c3",
   "metadata": {},
   "outputs": [],
   "source": [
    "# Plotting both the curves simultaneously\n",
    "X = range(n_iter)\n",
    "plt.plot(X, fitness_avg, color='r', label='Fitness Average')\n",
    "plt.plot(X, best_of_generation, color='g', label='Best of each gen.')\n",
    "  \n",
    "# Naming the x-axis, y-axis and the whole graph\n",
    "plt.xlabel(\"Generation\")\n",
    "plt.ylabel(\"Fitness\")\n",
    "plt.title(\"Evolution\")\n",
    "  \n",
    "# Adding legend, which helps us recognize the curve according to it's color\n",
    "plt.legend()\n",
    "  \n",
    "# To load the display window\n",
    "plt.show()"
   ]
  },
  {
   "cell_type": "markdown",
   "id": "41c71828",
   "metadata": {},
   "source": [
    "# Visualização gráfica do grid com a melhor solução econtrada"
   ]
  },
  {
   "cell_type": "code",
   "execution_count": null,
   "id": "c93ce723",
   "metadata": {},
   "outputs": [],
   "source": [
    "dimension = len(sol)\n",
    "grid = np.zeros((dimension, dimension))\n",
    "for index, value in enumerate(sol):\n",
    "    grid[index][value] = 5"
   ]
  },
  {
   "cell_type": "code",
   "execution_count": null,
   "id": "75fcc09d",
   "metadata": {},
   "outputs": [],
   "source": [
    "# make a color map of fixed colors\n",
    "cmap = matplotlib.colors.ListedColormap(['white','black'])\n",
    "bounds=[-2,2,6]\n",
    "norm = matplotlib.colors.BoundaryNorm(bounds, cmap.N)\n",
    "\n",
    "# tell imshow about color map so that only set colors are used\n",
    "img = plt.imshow(grid, cmap = cmap,norm = norm)\n",
    "\n",
    "plt.show()"
   ]
  },
  {
   "cell_type": "code",
   "execution_count": null,
   "id": "80d1c690",
   "metadata": {},
   "outputs": [],
   "source": []
  }
 ],
 "metadata": {
  "kernelspec": {
   "display_name": "Python 3",
   "language": "python",
   "name": "python3"
  },
  "language_info": {
   "codemirror_mode": {
    "name": "ipython",
    "version": 3
   },
   "file_extension": ".py",
   "mimetype": "text/x-python",
   "name": "python",
   "nbconvert_exporter": "python",
   "pygments_lexer": "ipython3",
   "version": "3.8.5"
  }
 },
 "nbformat": 4,
 "nbformat_minor": 5
}
