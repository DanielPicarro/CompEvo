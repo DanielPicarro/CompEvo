{
 "cells": [
  {
   "cell_type": "code",
   "execution_count": 1,
   "id": "bc22cd5e",
   "metadata": {},
   "outputs": [],
   "source": [
    "# Selection: avalia {pop} indivíduos aleatórias e retorna as duas melhores \n",
    "\n",
    "# Crossover: cruza dois indivíduos e gera dois novos\n",
    "#    Particionamento\n",
    "#    Merge\n",
    "#    Retirar repetição\n",
    "   \n",
    "# Mutation: retorna um subset (2 indivíduos) como resultado da mutação dos filhos \n",
    "\n",
    "# Replacement: troca os dois piores "
   ]
  },
  {
   "cell_type": "code",
   "execution_count": 4,
   "id": "f570d5e3",
   "metadata": {},
   "outputs": [],
   "source": [
    "import random as rd\n",
    "import numpy as np"
   ]
  },
  {
   "cell_type": "code",
   "execution_count": 7,
   "id": "e3db5986",
   "metadata": {},
   "outputs": [
    {
     "name": "stdout",
     "output_type": "stream",
     "text": [
      "[[1, 4, 6, 5, 2, 7, 3, 0], [5, 1, 4, 6, 3, 0, 2, 7], [5, 0, 3, 2, 6, 7, 4, 1], [2, 5, 3, 4, 1, 7, 6, 0], [3, 2, 4, 7, 0, 1, 6, 5], [3, 5, 2, 1, 7, 4, 0, 6], [1, 0, 7, 2, 4, 3, 5, 6], [7, 5, 3, 6, 4, 1, 2, 0], [1, 5, 6, 3, 4, 2, 0, 7], [7, 5, 1, 4, 6, 3, 0, 2], [6, 4, 0, 5, 7, 2, 1, 3], [3, 6, 2, 1, 0, 5, 7, 4], [6, 2, 4, 0, 5, 3, 7, 1], [3, 7, 4, 5, 1, 0, 2, 6], [0, 6, 7, 2, 5, 3, 1, 4], [3, 5, 4, 6, 1, 7, 2, 0], [5, 2, 7, 0, 1, 6, 4, 3], [6, 2, 3, 4, 5, 1, 0, 7], [4, 5, 1, 2, 6, 3, 7, 0], [6, 1, 0, 2, 3, 4, 7, 5]]\n"
     ]
    }
   ],
   "source": [
    "def init_population(_mu:int = 20, n:int = 8):\n",
    "    population = []\n",
    "    for i in range (_mu):\n",
    "        population.append(rd.sample(range(n), n))\n",
    "    return population\n",
    "\n",
    "def fitness_nq(solution):\n",
    "    xeques = 0\n",
    "    for i in range(0,len(solution)):\n",
    "        for j in range(0,len(solution)):\n",
    "            if i!=j:\n",
    "                if i-solution[i] == j-solution[j] or i+solution[i] == j+solution[j]:\n",
    "                    xeques+=1\n",
    "    return xeques\n",
    "\n",
    "pop = init_population(20, 8)\n",
    "print(pop)"
   ]
  },
  {
   "cell_type": "code",
   "execution_count": 49,
   "id": "59265e99",
   "metadata": {},
   "outputs": [],
   "source": [
    "# melhora: tirar o sorted\n",
    "def selection(population, cut):\n",
    "    scores = []\n",
    "    for individual in population:\n",
    "        fitness_score = fitness_nq(individual)\n",
    "        scores.append((fitness_score, individual))\n",
    "    sorted_scores = sorted(scores, key=lambda tup: tup[0])\n",
    "    best_ones = sorted_scores[-cut:] \n",
    "    return list(map(lambda x: x[1], best_ones))"
   ]
  },
  {
   "cell_type": "code",
   "execution_count": 50,
   "id": "19a548cc",
   "metadata": {},
   "outputs": [],
   "source": [
    "a = selection(pop, 2)"
   ]
  },
  {
   "cell_type": "code",
   "execution_count": 51,
   "id": "c429ca2d",
   "metadata": {},
   "outputs": [
    {
     "data": {
      "text/plain": [
       "[[1, 5, 6, 3, 4, 2, 0, 7], [6, 2, 3, 4, 5, 1, 0, 7]]"
      ]
     },
     "execution_count": 51,
     "metadata": {},
     "output_type": "execute_result"
    }
   ],
   "source": [
    "a"
   ]
  },
  {
   "cell_type": "code",
   "execution_count": 59,
   "id": "35e6f522",
   "metadata": {},
   "outputs": [],
   "source": [
    "# recebe pop. inteira, escolhe proporção aleatória, muta\n",
    "#  mutação: mudar duas posições do indivíduo escolhido aleatóriamente \n",
    "def mutation(population, mutation_rate):\n",
    "    for individual in population:\n",
    "        if 10*rd.randint(0, 10) < mutation_rate:\n",
    "            last_gene = individual.pop()\n",
    "            individual.insert(len(individual),last_gene)\n",
    "    return population"
   ]
  },
  {
   "cell_type": "code",
   "execution_count": 60,
   "id": "bafe9758",
   "metadata": {},
   "outputs": [
    {
     "name": "stdout",
     "output_type": "stream",
     "text": [
      "[[1, 4, 6, 5, 2, 7, 3, 0], [5, 1, 4, 6, 3, 0, 2, 7], [5, 0, 3, 2, 6, 7, 4, 1], [2, 5, 3, 4, 1, 7, 6, 0], [3, 2, 4, 7, 0, 1, 6, 5], [3, 5, 2, 1, 7, 4, 0, 6], [1, 0, 7, 2, 4, 3, 5, 6], [7, 5, 3, 6, 4, 1, 2, 0], [1, 5, 6, 3, 4, 2, 0], [7, 5, 1, 4, 6, 3, 0, 2], [6, 4, 0, 5, 7, 2, 1, 3], [3, 6, 2, 1, 0, 5, 7, 4], [6, 2, 4, 0, 5, 3, 7, 1], [3, 7, 4, 5, 1, 0, 2, 6], [0, 6, 7, 2, 5, 3, 1, 4], [3, 5, 4, 6, 1, 7, 2, 0], [5, 2, 7, 0, 1, 6, 4, 3], [6, 2, 3, 4, 5, 1, 0, 7], [4, 5, 1, 2, 6, 3, 7, 0], [6, 1, 0, 2, 3, 4, 7, 5]]\n"
     ]
    }
   ],
   "source": [
    "print(mutation(pop, 10))"
   ]
  },
  {
   "cell_type": "code",
   "execution_count": null,
   "id": "635cbdf4",
   "metadata": {},
   "outputs": [],
   "source": []
  }
 ],
 "metadata": {
  "kernelspec": {
   "display_name": "Python 3",
   "language": "python",
   "name": "python3"
  },
  "language_info": {
   "codemirror_mode": {
    "name": "ipython",
    "version": 3
   },
   "file_extension": ".py",
   "mimetype": "text/x-python",
   "name": "python",
   "nbconvert_exporter": "python",
   "pygments_lexer": "ipython3",
   "version": "3.8.5"
  }
 },
 "nbformat": 4,
 "nbformat_minor": 5
}
